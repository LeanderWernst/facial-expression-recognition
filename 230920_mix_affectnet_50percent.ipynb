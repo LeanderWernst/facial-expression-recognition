{
 "cells": [
  {
   "cell_type": "code",
   "execution_count": 1,
   "id": "963e5f16",
   "metadata": {},
   "outputs": [],
   "source": [
    "import os\n",
    "import shutil\n",
    "from natsort import natsorted\n",
    "\n",
    "occ_path = \"/home/lndr/Development/FER/AffectNet_Occluded_copy/val_set\"   # must be occluded\n",
    "normal_path = \"/home/lndr/Development/FER/AffectNet_sorted_copy/val_set\"     # must be normal\n",
    "\n",
    "target_folder = \"/home/lndr/Development/FER/AffectNet_50percent_occluded/val_set\"\n",
    "\n",
    "subfolders = [str(i) for i in range(8)]\n",
    "\n",
    "# Create target folder structure\n",
    "for subfolder in subfolders:\n",
    "    os.makedirs(os.path.join(target_folder, subfolder), exist_ok=True)\n",
    "\n",
    "# Collect files from folder and return dictionary\n",
    "def collect_files(folder_path):\n",
    "    files = {}\n",
    "    for subfolder in subfolders:\n",
    "        files[subfolder] = natsorted([f for f in os.listdir(os.path.join(folder_path, subfolder)) if f.endswith(\".jpg\")])\n",
    "    return files\n",
    "\n",
    "# Collect files from source folders\n",
    "occ_files = collect_files(occ_path)\n",
    "normal_files = collect_files(normal_path)\n",
    "\n",
    "# Sort and copy files\n",
    "for subfolder in subfolders:\n",
    "    occ_files[subfolder] = natsorted(occ_files[subfolder])\n",
    "    normal_files[subfolder] = natsorted(normal_files[subfolder])\n",
    "\n",
    "    total_files = len(occ_files[subfolder])\n",
    "\n",
    "    # Mix files from occ and normal\n",
    "    mixed_files = []\n",
    "    for i in range(total_files):\n",
    "        if i % 2 == 0:\n",
    "            mixed_files.append(occ_files[subfolder][i])\n",
    "        else:\n",
    "            mixed_files.append(normal_files[subfolder][i])\n",
    "    # Copy mixed files\n",
    "    for file in mixed_files:\n",
    "        if \"_occ\" in file:\n",
    "            source_file = os.path.join(occ_path, subfolder, file)\n",
    "        else:\n",
    "            source_file = os.path.join(normal_path, subfolder, file)\n",
    "        target_file = os.path.join(target_folder, subfolder, file)\n",
    "\n",
    "        shutil.copy(source_file, target_file)"
   ]
  },
  {
   "cell_type": "code",
   "execution_count": null,
   "id": "c15a443a",
   "metadata": {},
   "outputs": [],
   "source": []
  }
 ],
 "metadata": {
  "kernelspec": {
   "display_name": "Python 3",
   "language": "python",
   "name": "python3"
  },
  "language_info": {
   "codemirror_mode": {
    "name": "ipython",
    "version": 3
   },
   "file_extension": ".py",
   "mimetype": "text/x-python",
   "name": "python",
   "nbconvert_exporter": "python",
   "pygments_lexer": "ipython3",
   "version": "3.9.16"
  }
 },
 "nbformat": 4,
 "nbformat_minor": 5
}
