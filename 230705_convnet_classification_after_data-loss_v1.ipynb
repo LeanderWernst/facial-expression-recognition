{
 "cells": [
  {
   "cell_type": "code",
   "execution_count": 1,
   "id": "f07e1e23",
   "metadata": {},
   "outputs": [
    {
     "data": {
      "text/plain": [
       "[PhysicalDevice(name='/physical_device:GPU:0', device_type='GPU')]"
      ]
     },
     "execution_count": 1,
     "metadata": {},
     "output_type": "execute_result"
    }
   ],
   "source": [
    "import tensorflow as tf\n",
    "tf.config.list_physical_devices('GPU')"
   ]
  },
  {
   "cell_type": "code",
   "execution_count": 8,
   "id": "cf3b8fd1",
   "metadata": {},
   "outputs": [
    {
     "name": "stdout",
     "output_type": "stream",
     "text": [
      "Model: \"model_1\"\n",
      "_________________________________________________________________\n",
      " Layer (type)                Output Shape              Param #   \n",
      "=================================================================\n",
      " input_2 (InputLayer)        [(None, 224, 224, 3)]     0         \n",
      "                                                                 \n",
      " sequential (Sequential)     (None, 224, 224, 3)       0         \n",
      "                                                                 \n",
      " rescaling_1 (Rescaling)     (None, 224, 224, 3)       0         \n",
      "                                                                 \n",
      " conv2d_7 (Conv2D)           (None, 222, 222, 32)      896       \n",
      "                                                                 \n",
      " max_pooling2d_4 (MaxPooling  (None, 111, 111, 32)     0         \n",
      " 2D)                                                             \n",
      "                                                                 \n",
      " conv2d_8 (Conv2D)           (None, 109, 109, 64)      18496     \n",
      "                                                                 \n",
      " max_pooling2d_5 (MaxPooling  (None, 54, 54, 64)       0         \n",
      " 2D)                                                             \n",
      "                                                                 \n",
      " conv2d_9 (Conv2D)           (None, 52, 52, 128)       73856     \n",
      "                                                                 \n",
      " max_pooling2d_6 (MaxPooling  (None, 26, 26, 128)      0         \n",
      " 2D)                                                             \n",
      "                                                                 \n",
      " conv2d_10 (Conv2D)          (None, 24, 24, 256)       295168    \n",
      "                                                                 \n",
      " conv2d_11 (Conv2D)          (None, 22, 22, 256)       590080    \n",
      "                                                                 \n",
      " max_pooling2d_7 (MaxPooling  (None, 11, 11, 256)      0         \n",
      " 2D)                                                             \n",
      "                                                                 \n",
      " conv2d_12 (Conv2D)          (None, 9, 9, 512)         1180160   \n",
      "                                                                 \n",
      " conv2d_13 (Conv2D)          (None, 7, 7, 512)         2359808   \n",
      "                                                                 \n",
      " flatten_1 (Flatten)         (None, 25088)             0         \n",
      "                                                                 \n",
      " dense_1 (Dense)             (None, 8)                 200712    \n",
      "                                                                 \n",
      "=================================================================\n",
      "Total params: 4,719,176\n",
      "Trainable params: 4,719,176\n",
      "Non-trainable params: 0\n",
      "_________________________________________________________________\n"
     ]
    }
   ],
   "source": [
    "from tensorflow import keras\n",
    "from tensorflow.keras import layers\n",
    "\n",
    "data_augmentation = keras.Sequential(\n",
    "    [\n",
    "        layers.RandomFlip(\"horizontal\"),\n",
    "        layers.RandomRotation(0.1),\n",
    "        layers.RandomZoom(0.2),\n",
    "    ]\n",
    ")\n",
    "\n",
    "inputs = keras.Input(shape=(224, 224, 3)) # width, height, channels\n",
    "# x = data_augmentation(inputs)\n",
    "x = layers.Rescaling(1./255)(x)\n",
    "x = layers.Conv2D(filters=32, kernel_size=3, activation=\"relu\")(x)\n",
    "x = layers.MaxPooling2D(pool_size=2)(x)\n",
    "x = layers.Conv2D(filters=64, kernel_size=3, activation=\"relu\")(x)\n",
    "x = layers.MaxPooling2D(pool_size=2)(x)\n",
    "x = layers.Conv2D(filters=128, kernel_size=3, activation=\"relu\")(x)\n",
    "x = layers.MaxPooling2D(pool_size=2)(x)\n",
    "x = layers.Conv2D(filters=256, kernel_size=3, activation=\"relu\")(x)\n",
    "x = layers.Conv2D(filters=256, kernel_size=3, activation=\"relu\")(x)\n",
    "x = layers.MaxPooling2D(pool_size=2)(x)\n",
    "x = layers.Conv2D(filters=512, kernel_size=3, activation=\"relu\")(x)\n",
    "x = layers.Conv2D(filters=512, kernel_size=3, activation=\"relu\")(x)\n",
    "x = layers.Flatten()(x)\n",
    "outputs = layers.Dense(8, activation=\"softmax\")(x) # 8 classes in AffectNet\n",
    "model = keras.Model(inputs=inputs, outputs=outputs)\n",
    "\n",
    "model.summary()"
   ]
  },
  {
   "cell_type": "code",
   "execution_count": 3,
   "id": "7e26fe19",
   "metadata": {},
   "outputs": [],
   "source": [
    "train_img_dir = '/home/lndr/Development/FER/AffectNet_sorted/train_set'\n",
    "test_img_dir = '/home/lndr/Development/FER/AffectNet_sorted/val_set'"
   ]
  },
  {
   "cell_type": "code",
   "execution_count": 4,
   "id": "6dc63964",
   "metadata": {},
   "outputs": [],
   "source": [
    "import random\n",
    "\n",
    "def load_data(train_img_dir, test_img_dir):\n",
    "\n",
    "    train_dataset = tf.keras.utils.image_dataset_from_directory(\n",
    "        train_img_dir,\n",
    "        labels='inferred',\n",
    "        label_mode='int',\n",
    "        color_mode='rgb',\n",
    "        batch_size=32,\n",
    "        image_size=(224, 224),\n",
    "        shuffle=True,\n",
    "        seed=random.randint(0,1000),\n",
    "        validation_split=0.2,\n",
    "        subset='both'\n",
    "    )\n",
    "\n",
    "    test_dataset = tf.keras.utils.image_dataset_from_directory(\n",
    "        test_img_dir,\n",
    "        labels='inferred',\n",
    "        label_mode='int',\n",
    "        color_mode='rgb',\n",
    "        batch_size=32,\n",
    "        image_size=(224, 224),\n",
    "        shuffle=True,\n",
    "        seed=random.randint(0,1000),\n",
    "        validation_split=None\n",
    "    )\n",
    "\n",
    "    return train_dataset, test_dataset"
   ]
  },
  {
   "cell_type": "code",
   "execution_count": 5,
   "id": "869786be",
   "metadata": {},
   "outputs": [
    {
     "name": "stdout",
     "output_type": "stream",
     "text": [
      "Found 287651 files belonging to 8 classes.\n",
      "Using 230121 files for training.\n",
      "Using 57530 files for validation.\n",
      "Found 3999 files belonging to 8 classes.\n"
     ]
    }
   ],
   "source": [
    "(train_dataset, val_dataset), test_dataset = load_data(train_img_dir, test_img_dir)"
   ]
  },
  {
   "cell_type": "code",
   "execution_count": 9,
   "id": "a31268cc",
   "metadata": {},
   "outputs": [],
   "source": [
    "model.compile(optimizer=tf.keras.optimizers.Adam(1e-6),\n",
    "              loss = \"sparse_categorical_crossentropy\",\n",
    "              metrics = [\"accuracy\"])"
   ]
  },
  {
   "cell_type": "code",
   "execution_count": 10,
   "id": "dd9f91b3",
   "metadata": {
    "scrolled": false
   },
   "outputs": [
    {
     "name": "stdout",
     "output_type": "stream",
     "text": [
      "Epoch 1/30\n",
      "7192/7192 [==============================] - 336s 46ms/step - loss: 1.4893 - accuracy: 0.4661 - val_loss: 1.4535 - val_accuracy: 0.4726\n",
      "Epoch 2/30\n",
      "7192/7192 [==============================] - 334s 46ms/step - loss: 1.4449 - accuracy: 0.4756 - val_loss: 1.4104 - val_accuracy: 0.4915\n",
      "Epoch 3/30\n",
      "7192/7192 [==============================] - 335s 47ms/step - loss: 1.3914 - accuracy: 0.4982 - val_loss: 1.3238 - val_accuracy: 0.5436\n",
      "Epoch 4/30\n",
      "7192/7192 [==============================] - 318s 44ms/step - loss: 1.3380 - accuracy: 0.5276 - val_loss: 1.2663 - val_accuracy: 0.5652\n",
      "Epoch 5/30\n",
      "7192/7192 [==============================] - 331s 46ms/step - loss: 1.3053 - accuracy: 0.5436 - val_loss: 1.2336 - val_accuracy: 0.5736\n",
      "Epoch 6/30\n",
      "7192/7192 [==============================] - 327s 45ms/step - loss: 1.2818 - accuracy: 0.5546 - val_loss: 1.2128 - val_accuracy: 0.5810\n",
      "Epoch 7/30\n",
      "7192/7192 [==============================] - 326s 45ms/step - loss: 1.2643 - accuracy: 0.5611 - val_loss: 1.1956 - val_accuracy: 0.5876\n",
      "Epoch 8/30\n",
      "7192/7192 [==============================] - 330s 46ms/step - loss: 1.2471 - accuracy: 0.5679 - val_loss: 1.1801 - val_accuracy: 0.5930\n",
      "Epoch 9/30\n",
      "7192/7192 [==============================] - 333s 46ms/step - loss: 1.2312 - accuracy: 0.5730 - val_loss: 1.1656 - val_accuracy: 0.5989\n",
      "Epoch 10/30\n",
      "7192/7192 [==============================] - 330s 46ms/step - loss: 1.2162 - accuracy: 0.5792 - val_loss: 1.1527 - val_accuracy: 0.6020\n",
      "Epoch 11/30\n",
      "7192/7192 [==============================] - 332s 46ms/step - loss: 1.2004 - accuracy: 0.5850 - val_loss: 1.1392 - val_accuracy: 0.6062\n",
      "Epoch 12/30\n",
      "7192/7192 [==============================] - 332s 46ms/step - loss: 1.1871 - accuracy: 0.5901 - val_loss: 1.1269 - val_accuracy: 0.6113\n",
      "Epoch 13/30\n",
      "7192/7192 [==============================] - 333s 46ms/step - loss: 1.1749 - accuracy: 0.5942 - val_loss: 1.1183 - val_accuracy: 0.6123\n",
      "Epoch 14/30\n",
      "7192/7192 [==============================] - 332s 46ms/step - loss: 1.1634 - accuracy: 0.5988 - val_loss: 1.1060 - val_accuracy: 0.6182\n",
      "Epoch 15/30\n",
      "7192/7192 [==============================] - 330s 46ms/step - loss: 1.1524 - accuracy: 0.6018 - val_loss: 1.0970 - val_accuracy: 0.6207\n",
      "Epoch 16/30\n",
      "7192/7192 [==============================] - 326s 45ms/step - loss: 1.1425 - accuracy: 0.6049 - val_loss: 1.0907 - val_accuracy: 0.6239\n",
      "Epoch 17/30\n",
      "7192/7192 [==============================] - 328s 46ms/step - loss: 1.1333 - accuracy: 0.6085 - val_loss: 1.0831 - val_accuracy: 0.6259\n",
      "Epoch 18/30\n",
      "7192/7192 [==============================] - 333s 46ms/step - loss: 1.1265 - accuracy: 0.6105 - val_loss: 1.0772 - val_accuracy: 0.6281\n",
      "Epoch 19/30\n",
      "7192/7192 [==============================] - 333s 46ms/step - loss: 1.1189 - accuracy: 0.6129 - val_loss: 1.0720 - val_accuracy: 0.6305\n",
      "Epoch 20/30\n",
      "7192/7192 [==============================] - 332s 46ms/step - loss: 1.1119 - accuracy: 0.6159 - val_loss: 1.0659 - val_accuracy: 0.6314\n",
      "Epoch 21/30\n",
      "7192/7192 [==============================] - 327s 45ms/step - loss: 1.1062 - accuracy: 0.6181 - val_loss: 1.0617 - val_accuracy: 0.6341\n",
      "Epoch 22/30\n",
      "7192/7192 [==============================] - 327s 45ms/step - loss: 1.1006 - accuracy: 0.6190 - val_loss: 1.0582 - val_accuracy: 0.6367\n",
      "Epoch 23/30\n",
      "7192/7192 [==============================] - 332s 46ms/step - loss: 1.0954 - accuracy: 0.6203 - val_loss: 1.0526 - val_accuracy: 0.6387\n",
      "Epoch 24/30\n",
      "7192/7192 [==============================] - 332s 46ms/step - loss: 1.0893 - accuracy: 0.6228 - val_loss: 1.0476 - val_accuracy: 0.6395\n",
      "Epoch 25/30\n",
      "7192/7192 [==============================] - 332s 46ms/step - loss: 1.0848 - accuracy: 0.6237 - val_loss: 1.0437 - val_accuracy: 0.6399\n",
      "Epoch 26/30\n",
      "7192/7192 [==============================] - 329s 46ms/step - loss: 1.0801 - accuracy: 0.6258 - val_loss: 1.0379 - val_accuracy: 0.6410\n",
      "Epoch 27/30\n",
      "7192/7192 [==============================] - 333s 46ms/step - loss: 1.0743 - accuracy: 0.6286 - val_loss: 1.0333 - val_accuracy: 0.6447\n",
      "Epoch 28/30\n",
      "7192/7192 [==============================] - 337s 47ms/step - loss: 1.0708 - accuracy: 0.6288 - val_loss: 1.0297 - val_accuracy: 0.6455\n",
      "Epoch 29/30\n",
      "7192/7192 [==============================] - 337s 47ms/step - loss: 1.0659 - accuracy: 0.6296 - val_loss: 1.0250 - val_accuracy: 0.6468\n",
      "Epoch 30/30\n",
      "7192/7192 [==============================] - 337s 47ms/step - loss: 1.0616 - accuracy: 0.6314 - val_loss: 1.0226 - val_accuracy: 0.6467\n"
     ]
    }
   ],
   "source": [
    "from datetime import date\n",
    "today = date.today()\n",
    "date = today.strftime(\"%Y%m%d\")\n",
    "\n",
    "callbacks = [\n",
    "    keras.callbacks.ModelCheckpoint(\n",
    "        filepath=f\"{date}_fer_convnet_scratch.keras\",\n",
    "        save_best_only=True,\n",
    "        monitor=\"val_loss\"),\n",
    "    keras.callbacks.EarlyStopping(\n",
    "        monitor=\"val_loss\", \n",
    "        patience=5)\n",
    "]\n",
    "\n",
    "history = model.fit(x=train_dataset, epochs=30, validation_data=val_dataset, callbacks=callbacks)"
   ]
  },
  {
   "cell_type": "code",
   "execution_count": 11,
   "id": "16fbd631",
   "metadata": {},
   "outputs": [
    {
     "data": {
      "image/png": "[encoded data removed]",
      "text/plain": [
       "<Figure size 432x288 with 1 Axes>"
      ]
     },
     "metadata": {
      "needs_background": "light"
     },
     "output_type": "display_data"
    },
    {
     "data": {
      "image/png": "[encoded data removed]",
      "text/plain": [
       "<Figure size 432x288 with 1 Axes>"
      ]
     },
     "metadata": {
      "needs_background": "light"
     },
     "output_type": "display_data"
    }
   ],
   "source": [
    "import matplotlib.pyplot as plt\n",
    "accuracy = history.history[\"accuracy\"]\n",
    "val_accuracy = history.history[\"val_accuracy\"]\n",
    "loss = history.history[\"loss\"]\n",
    "val_loss = history.history[\"val_loss\"]\n",
    "epochs = range(1, len(accuracy) + 1)\n",
    "\n",
    "plt.plot(epochs, accuracy, \"bo\", label=\"Training accuracy\")\n",
    "plt.plot(epochs, val_accuracy, \"b\", label=\"Validation accuracy\")\n",
    "plt.title(\"Training and validation accuracy\")\n",
    "plt.legend()\n",
    "plt.figure()\n",
    "\n",
    "plt.plot(epochs, loss, \"bo\", label=\"Training loss\")\n",
    "plt.plot(epochs, val_loss, \"b\", label=\"Validation loss\")\n",
    "plt.title(\"Training and validation loss\")\n",
    "plt.legend()\n",
    "plt.show()"
   ]
  },
  {
   "cell_type": "code",
   "execution_count": 12,
   "id": "68893d43",
   "metadata": {},
   "outputs": [
    {
     "name": "stdout",
     "output_type": "stream",
     "text": [
      "125/125 [==============================] - 3s 21ms/step - loss: 2.2572 - accuracy: 0.2771\n",
      "Test accuracy: 0.277\n"
     ]
    }
   ],
   "source": [
    "test_loss, test_acc = model.evaluate(test_dataset)\n",
    "print(f\"Test accuracy: {test_acc:.3f}\")"
   ]
  },
  {
   "cell_type": "code",
   "execution_count": null,
   "id": "9aad069c",
   "metadata": {},
   "outputs": [],
   "source": []
  }
 ],
 "metadata": {
  "kernelspec": {
   "display_name": "Python 3",
   "language": "python",
   "name": "python3"
  },
  "language_info": {
   "codemirror_mode": {
    "name": "ipython",
    "version": 3
   },
   "file_extension": ".py",
   "mimetype": "text/x-python",
   "name": "python",
   "nbconvert_exporter": "python",
   "pygments_lexer": "ipython3",
   "version": "3.9.16"
  }
 },
 "nbformat": 4,
 "nbformat_minor": 5
}
