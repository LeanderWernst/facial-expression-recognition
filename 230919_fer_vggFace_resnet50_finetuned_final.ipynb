{
 "cells": [
  {
   "cell_type": "markdown",
   "id": "509f6ca9",
   "metadata": {},
   "source": [
    "- BatchNormalization\n",
    "- Resnet, Senet\n",
    "- Hyperparameter Tuning\n",
    "- retrain different layers\n",
    "- mixed precision tests"
   ]
  },
  {
   "cell_type": "code",
   "execution_count": 1,
   "id": "8342aa05",
   "metadata": {},
   "outputs": [
    {
     "name": "stdout",
     "output_type": "stream",
     "text": [
      "2.12.0\n",
      "2.12.0\n"
     ]
    },
    {
     "data": {
      "text/plain": [
       "[PhysicalDevice(name='/physical_device:GPU:0', device_type='GPU')]"
      ]
     },
     "execution_count": 1,
     "metadata": {},
     "output_type": "execute_result"
    }
   ],
   "source": [
    "import tensorflow as tf\n",
    "from tensorflow import keras\n",
    "print(tf.keras.__version__)\n",
    "print(tf.__version__)\n",
    "tf.config.list_physical_devices('GPU')\n",
    "#keras.mixed_precision.set_global_policy(\"mixed_float16\") # turn on mixed precision for faster computation"
   ]
  },
  {
   "cell_type": "code",
   "execution_count": 2,
   "id": "fa0652f3",
   "metadata": {},
   "outputs": [],
   "source": [
    "train_img_dir = '/home/lndr/Development/FER/AffectNet_sorted/train_set'\n",
    "test_img_dir = '/home/lndr/Development/FER/AffectNet_sorted/val_set'\n",
    "#train_img_dir = '/home/lndr/Development/FER/AffectNet_sorted_balanced_small/train_set'\n",
    "#test_img_dir = '/home/lndr/Development/FER/AffectNet_sorted_balanced_small/val_set'"
   ]
  },
  {
   "cell_type": "code",
   "execution_count": 3,
   "id": "cd88c0cf",
   "metadata": {},
   "outputs": [],
   "source": [
    "import random\n",
    "\n",
    "def load_data(train_img_dir, test_img_dir, image_size=(224,224), batch_size=32, validation_split=0.2):\n",
    "\n",
    "    train_dataset = tf.keras.utils.image_dataset_from_directory(\n",
    "        train_img_dir,\n",
    "        labels='inferred',\n",
    "        label_mode='int',\n",
    "        color_mode='rgb',\n",
    "        batch_size=batch_size,\n",
    "        image_size=image_size,\n",
    "        shuffle=True,\n",
    "        seed=random.randint(0,1000),\n",
    "        validation_split=validation_split,\n",
    "        subset='both'\n",
    "    )\n",
    "\n",
    "    test_dataset = tf.keras.utils.image_dataset_from_directory(\n",
    "        test_img_dir,\n",
    "        labels='inferred',\n",
    "        label_mode='int',\n",
    "        color_mode='rgb',\n",
    "        batch_size=batch_size,\n",
    "        image_size=image_size,\n",
    "        shuffle=True,\n",
    "        seed=random.randint(0,1000),\n",
    "        validation_split=None\n",
    "    )\n",
    "\n",
    "    return train_dataset, test_dataset"
   ]
  },
  {
   "cell_type": "code",
   "execution_count": 4,
   "id": "ce7ad7a8",
   "metadata": {},
   "outputs": [],
   "source": [
    "import matplotlib.pyplot as plt\n",
    "\n",
    "def plot_history(history):\n",
    "    accuracy = history.history[\"accuracy\"]\n",
    "    val_accuracy = history.history[\"val_accuracy\"]\n",
    "    loss = history.history[\"loss\"]\n",
    "    val_loss = history.history[\"val_loss\"]\n",
    "    epochs = range(1, len(accuracy) + 1)\n",
    "\n",
    "    plt.plot(epochs, accuracy, \"bo\", label=\"Training accuracy\")\n",
    "    plt.plot(epochs, val_accuracy, \"b\", label=\"Validation accuracy\")\n",
    "    plt.title(\"Training and validation accuracy\")\n",
    "    plt.legend()\n",
    "    plt.figure()\n",
    "\n",
    "    plt.plot(epochs, loss, \"bo\", label=\"Training loss\")\n",
    "    plt.plot(epochs, val_loss, \"b\", label=\"Validation loss\")\n",
    "    plt.title(\"Training and validation loss\")\n",
    "    plt.legend()\n",
    "    plt.show()"
   ]
  },
  {
   "cell_type": "code",
   "execution_count": 5,
   "id": "df3d4d4b",
   "metadata": {},
   "outputs": [
    {
     "data": {
      "text/plain": [
       "{0: 0.01557266066902349,\n",
       " 1: 0.008674533310511956,\n",
       " 2: 0.045798632897304084,\n",
       " 3: 0.08275283143594497,\n",
       " 4: 0.18281395342308948,\n",
       " 5: 0.3065967380837404,\n",
       " 6: 0.04686067819839501,\n",
       " 7: 0.31092997198199057}"
      ]
     },
     "execution_count": 5,
     "metadata": {},
     "output_type": "execute_result"
    }
   ],
   "source": [
    "import numpy as np\n",
    "\n",
    "classes = {0: 'neutral', \n",
    "           1: 'happiness', \n",
    "           2: 'sadness', \n",
    "           3: 'surprise', \n",
    "           4: 'fear', \n",
    "           5: 'disgust', \n",
    "           6: 'anger', \n",
    "           7: 'contempt'}\n",
    "\n",
    "# calculate weights on class distribution from 0-7\n",
    "total_images = 287_652\n",
    "images_per_class = [74_874, 134_415, 25_459, 14_090, 6_378, 3_803, 24_882, 3_750]\n",
    "class_distribution = [d/total_images for d in images_per_class]\n",
    "# inverse class distribution for weights (lower dist = higher weight)\n",
    "class_weights = [1.0 / dist for dist in class_distribution]\n",
    "# normalize\n",
    "class_weights_normalized = class_weights / np.sum(class_weights)\n",
    "class_weights_dict = {i: weight for i, weight in enumerate(class_weights_normalized)}\n",
    "class_weights_dict"
   ]
  },
  {
   "cell_type": "markdown",
   "id": "1fc19101",
   "metadata": {},
   "source": [
    "---"
   ]
  },
  {
   "cell_type": "markdown",
   "id": "39b8c63b",
   "metadata": {},
   "source": [
    "---"
   ]
  },
  {
   "cell_type": "code",
   "execution_count": 7,
   "id": "40153b8d",
   "metadata": {
    "scrolled": false
   },
   "outputs": [
    {
     "name": "stdout",
     "output_type": "stream",
     "text": [
      "Found 287651 files belonging to 8 classes.\n",
      "Using 230121 files for training.\n",
      "Using 57530 files for validation.\n",
      "Found 3999 files belonging to 8 classes.\n",
      "Saving model as: 20230714_21-50_fer_vggface-resnet50_finetuned_\n",
      "Epoch 1/50\n",
      "7192/7192 [==============================] - ETA: 0s - loss: 0.0491 - accuracy: 0.4915\n",
      "Epoch 1: saving model to 20230714_21-50_fer_vggface-resnet50_finetuned_E01-VLoss1.07.keras\n",
      "7192/7192 [==============================] - 540s 74ms/step - loss: 0.0491 - accuracy: 0.4915 - val_loss: 1.0703 - val_accuracy: 0.6139 - lr: 0.0010\n",
      "Epoch 2/50\n",
      "7191/7192 [============================>.] - ETA: 0s - loss: 0.0435 - accuracy: 0.5349\n",
      "Epoch 2: saving model to 20230714_21-50_fer_vggface-resnet50_finetuned_E02-VLoss0.96.keras\n",
      "7192/7192 [==============================] - 528s 73ms/step - loss: 0.0435 - accuracy: 0.5349 - val_loss: 0.9631 - val_accuracy: 0.6327 - lr: 0.0010\n",
      "Epoch 3/50\n",
      "7191/7192 [============================>.] - ETA: 0s - loss: 0.0419 - accuracy: 0.5450\n",
      "Epoch 3: saving model to 20230714_21-50_fer_vggface-resnet50_finetuned_E03-VLoss1.16.keras\n",
      "7192/7192 [==============================] - 528s 73ms/step - loss: 0.0419 - accuracy: 0.5450 - val_loss: 1.1646 - val_accuracy: 0.5607 - lr: 0.0010\n",
      "Epoch 4/50\n",
      "7191/7192 [============================>.] - ETA: 0s - loss: 0.0410 - accuracy: 0.5526\n",
      "Epoch 4: saving model to 20230714_21-50_fer_vggface-resnet50_finetuned_E04-VLoss0.92.keras\n",
      "7192/7192 [==============================] - 528s 73ms/step - loss: 0.0410 - accuracy: 0.5526 - val_loss: 0.9193 - val_accuracy: 0.6435 - lr: 0.0010\n",
      "Epoch 5/50\n",
      "7191/7192 [============================>.] - ETA: 0s - loss: 0.0401 - accuracy: 0.5580\n",
      "Epoch 5: saving model to 20230714_21-50_fer_vggface-resnet50_finetuned_E05-VLoss0.89.keras\n",
      "7192/7192 [==============================] - 529s 74ms/step - loss: 0.0401 - accuracy: 0.5580 - val_loss: 0.8920 - val_accuracy: 0.6824 - lr: 0.0010\n",
      "Epoch 6/50\n",
      "7191/7192 [============================>.] - ETA: 0s - loss: 0.0396 - accuracy: 0.5612\n",
      "Epoch 6: saving model to 20230714_21-50_fer_vggface-resnet50_finetuned_E06-VLoss1.05.keras\n",
      "7192/7192 [==============================] - 528s 73ms/step - loss: 0.0396 - accuracy: 0.5612 - val_loss: 1.0490 - val_accuracy: 0.5941 - lr: 0.0010\n",
      "Epoch 7/50\n",
      "7191/7192 [============================>.] - ETA: 0s - loss: 0.0392 - accuracy: 0.5641\n",
      "Epoch 7: saving model to 20230714_21-50_fer_vggface-resnet50_finetuned_E07-VLoss0.93.keras\n",
      "7192/7192 [==============================] - 528s 73ms/step - loss: 0.0392 - accuracy: 0.5641 - val_loss: 0.9348 - val_accuracy: 0.6517 - lr: 0.0010\n",
      "Epoch 8/50\n",
      "7191/7192 [============================>.] - ETA: 0s - loss: 0.0385 - accuracy: 0.5694\n",
      "Epoch 8: saving model to 20230714_21-50_fer_vggface-resnet50_finetuned_E08-VLoss0.94.keras\n",
      "7192/7192 [==============================] - 528s 73ms/step - loss: 0.0385 - accuracy: 0.5694 - val_loss: 0.9412 - val_accuracy: 0.6727 - lr: 0.0010\n",
      "Epoch 9/50\n",
      "7191/7192 [============================>.] - ETA: 0s - loss: 0.0383 - accuracy: 0.5708\n",
      "Epoch 9: saving model to 20230714_21-50_fer_vggface-resnet50_finetuned_E09-VLoss0.92.keras\n",
      "7192/7192 [==============================] - 528s 73ms/step - loss: 0.0383 - accuracy: 0.5708 - val_loss: 0.9220 - val_accuracy: 0.6666 - lr: 0.0010\n",
      "Epoch 10/50\n",
      "7191/7192 [============================>.] - ETA: 0s - loss: 0.0382 - accuracy: 0.5698\n",
      "Epoch 10: saving model to 20230714_21-50_fer_vggface-resnet50_finetuned_E10-VLoss0.95.keras\n",
      "\n",
      "Epoch 10: ReduceLROnPlateau reducing learning rate to 0.00020000000949949026.\n",
      "7192/7192 [==============================] - 528s 73ms/step - loss: 0.0382 - accuracy: 0.5698 - val_loss: 0.9457 - val_accuracy: 0.6512 - lr: 0.0010\n",
      "Epoch 11/50\n",
      "7191/7192 [============================>.] - ETA: 0s - loss: 0.0359 - accuracy: 0.5871\n",
      "Epoch 11: saving model to 20230714_21-50_fer_vggface-resnet50_finetuned_E11-VLoss0.99.keras\n",
      "7192/7192 [==============================] - 528s 73ms/step - loss: 0.0359 - accuracy: 0.5871 - val_loss: 0.9936 - val_accuracy: 0.6070 - lr: 2.0000e-04\n",
      "Epoch 12/50\n",
      "7191/7192 [============================>.] - ETA: 0s - loss: 0.0356 - accuracy: 0.5873\n",
      "Epoch 12: saving model to 20230714_21-50_fer_vggface-resnet50_finetuned_E12-VLoss0.99.keras\n",
      "7192/7192 [==============================] - 528s 73ms/step - loss: 0.0356 - accuracy: 0.5873 - val_loss: 0.9930 - val_accuracy: 0.6085 - lr: 2.0000e-04\n",
      "Epoch 13/50\n",
      "7191/7192 [============================>.] - ETA: 0s - loss: 0.0353 - accuracy: 0.5904\n",
      "Epoch 13: saving model to 20230714_21-50_fer_vggface-resnet50_finetuned_E13-VLoss0.97.keras\n",
      "7192/7192 [==============================] - 528s 73ms/step - loss: 0.0353 - accuracy: 0.5904 - val_loss: 0.9711 - val_accuracy: 0.6183 - lr: 2.0000e-04\n",
      "Epoch 14/50\n",
      "7191/7192 [============================>.] - ETA: 0s - loss: 0.0349 - accuracy: 0.5930\n",
      "Epoch 14: saving model to 20230714_21-50_fer_vggface-resnet50_finetuned_E14-VLoss0.98.keras\n",
      "7192/7192 [==============================] - 529s 73ms/step - loss: 0.0349 - accuracy: 0.5930 - val_loss: 0.9814 - val_accuracy: 0.6147 - lr: 2.0000e-04\n",
      "Epoch 15/50\n",
      "7191/7192 [============================>.] - ETA: 0s - loss: 0.0349 - accuracy: 0.5922\n",
      "Epoch 15: saving model to 20230714_21-50_fer_vggface-resnet50_finetuned_E15-VLoss0.98.keras\n",
      "\n",
      "Epoch 15: ReduceLROnPlateau reducing learning rate to 4.0000001899898055e-05.\n",
      "7192/7192 [==============================] - 528s 73ms/step - loss: 0.0349 - accuracy: 0.5922 - val_loss: 0.9759 - val_accuracy: 0.6137 - lr: 2.0000e-04\n",
      "Epoch 16/50\n",
      "7191/7192 [============================>.] - ETA: 0s - loss: 0.0344 - accuracy: 0.5941\n",
      "Epoch 16: saving model to 20230714_21-50_fer_vggface-resnet50_finetuned_E16-VLoss0.99.keras\n",
      "7192/7192 [==============================] - 529s 74ms/step - loss: 0.0344 - accuracy: 0.5941 - val_loss: 0.9916 - val_accuracy: 0.6080 - lr: 4.0000e-05\n",
      "Epoch 17/50\n",
      "7191/7192 [============================>.] - ETA: 0s - loss: 0.0342 - accuracy: 0.5980\n",
      "Epoch 17: saving model to 20230714_21-50_fer_vggface-resnet50_finetuned_E17-VLoss0.99.keras\n",
      "7192/7192 [==============================] - 528s 73ms/step - loss: 0.0342 - accuracy: 0.5980 - val_loss: 0.9888 - val_accuracy: 0.6099 - lr: 4.0000e-05\n",
      "Epoch 18/50\n",
      "7191/7192 [============================>.] - ETA: 0s - loss: 0.0342 - accuracy: 0.5962\n",
      "Epoch 18: saving model to 20230714_21-50_fer_vggface-resnet50_finetuned_E18-VLoss0.98.keras\n",
      "7192/7192 [==============================] - 529s 74ms/step - loss: 0.0342 - accuracy: 0.5962 - val_loss: 0.9753 - val_accuracy: 0.6161 - lr: 4.0000e-05\n",
      "Epoch 19/50\n",
      "7191/7192 [============================>.] - ETA: 0s - loss: 0.0341 - accuracy: 0.5977\n",
      "Epoch 19: saving model to 20230714_21-50_fer_vggface-resnet50_finetuned_E19-VLoss0.97.keras\n",
      "7192/7192 [==============================] - 529s 73ms/step - loss: 0.0341 - accuracy: 0.5978 - val_loss: 0.9740 - val_accuracy: 0.6175 - lr: 4.0000e-05\n",
      "Epoch 20/50\n",
      "7191/7192 [============================>.] - ETA: 0s - loss: 0.0341 - accuracy: 0.5967\n",
      "Epoch 20: saving model to 20230714_21-50_fer_vggface-resnet50_finetuned_E20-VLoss0.97.keras\n",
      "\n",
      "Epoch 20: ReduceLROnPlateau reducing learning rate to 8.000000525498762e-06.\n",
      "7192/7192 [==============================] - 528s 73ms/step - loss: 0.0341 - accuracy: 0.5967 - val_loss: 0.9688 - val_accuracy: 0.6173 - lr: 4.0000e-05\n",
      "Epoch 21/50\n",
      "7191/7192 [============================>.] - ETA: 0s - loss: 0.0340 - accuracy: 0.5966\n",
      "Epoch 21: saving model to 20230714_21-50_fer_vggface-resnet50_finetuned_E21-VLoss0.97.keras\n",
      "7192/7192 [==============================] - 528s 73ms/step - loss: 0.0340 - accuracy: 0.5966 - val_loss: 0.9688 - val_accuracy: 0.6177 - lr: 8.0000e-06\n",
      "Epoch 22/50\n",
      "7191/7192 [============================>.] - ETA: 0s - loss: 0.0341 - accuracy: 0.5982\n",
      "Epoch 22: saving model to 20230714_21-50_fer_vggface-resnet50_finetuned_E22-VLoss0.96.keras\n",
      "7192/7192 [==============================] - 528s 73ms/step - loss: 0.0341 - accuracy: 0.5982 - val_loss: 0.9637 - val_accuracy: 0.6196 - lr: 8.0000e-06\n",
      "Epoch 23/50\n",
      "7191/7192 [============================>.] - ETA: 0s - loss: 0.0339 - accuracy: 0.5994\n",
      "Epoch 23: saving model to 20230714_21-50_fer_vggface-resnet50_finetuned_E23-VLoss0.96.keras\n",
      "7192/7192 [==============================] - 528s 73ms/step - loss: 0.0339 - accuracy: 0.5994 - val_loss: 0.9608 - val_accuracy: 0.6213 - lr: 8.0000e-06\n"
     ]
    },
    {
     "name": "stdout",
     "output_type": "stream",
     "text": [
      "Epoch 24/50\n",
      "7191/7192 [============================>.] - ETA: 0s - loss: 0.0340 - accuracy: 0.5986\n",
      "Epoch 24: saving model to 20230714_21-50_fer_vggface-resnet50_finetuned_E24-VLoss0.97.keras\n",
      "7192/7192 [==============================] - 528s 73ms/step - loss: 0.0340 - accuracy: 0.5986 - val_loss: 0.9665 - val_accuracy: 0.6190 - lr: 8.0000e-06\n",
      "Epoch 25/50\n",
      "7191/7192 [============================>.] - ETA: 0s - loss: 0.0339 - accuracy: 0.5978\n",
      "Epoch 25: saving model to 20230714_21-50_fer_vggface-resnet50_finetuned_E25-VLoss0.97.keras\n",
      "\n",
      "Epoch 25: ReduceLROnPlateau reducing learning rate to 1.6000001778593287e-06.\n",
      "7192/7192 [==============================] - 527s 73ms/step - loss: 0.0339 - accuracy: 0.5978 - val_loss: 0.9672 - val_accuracy: 0.6186 - lr: 8.0000e-06\n"
     ]
    }
   ],
   "source": [
    "from tensorflow.keras import layers\n",
    "from keras_vggface.vggface import VGGFace\n",
    "\n",
    "# Define Data Augmentation Layer\n",
    "data_augmentation = keras.Sequential(\n",
    "    [\n",
    "        layers.RandomFlip(\"horizontal_and_vertical\"),\n",
    "        layers.RandomRotation(0.1),\n",
    "        layers.RandomBrightness(.2),\n",
    "        layers.RandomContrast(.2),\n",
    "        layers.RandomZoom(.3, fill_mode=\"constant\"),\n",
    "    ]\n",
    ")\n",
    "\n",
    "# Load Base Model\n",
    "vgg_model = VGGFace(model=\"resnet50\", include_top=False, input_shape=(224, 224, 3))\n",
    "vgg_model.trainable = True\n",
    "for layer in vgg_model.layers[:-33]: # starting with res5\n",
    "    layer.trainable = False\n",
    "    \n",
    "# Add Head Model (Finetune)\n",
    "inputs = keras.Input(shape=(224, 224, 3))\n",
    "x = data_augmentation(inputs)\n",
    "x = keras.applications.resnet.preprocess_input(x)\n",
    "x = vgg_model(x)\n",
    "x = layers.Flatten(name='flatten')(x)\n",
    "x = layers.Dense(1024, activation=\"relu\")(x)\n",
    "outputs = layers.Dense(8, activation='softmax', name='classifier', dtype=\"float32\")(x) # opt-out mixed precision for softmax layer\n",
    "model = keras.Model(inputs, outputs)\n",
    "\n",
    "\n",
    "#vgg_model.summary()\n",
    "model.compile(optimizer=tf.keras.optimizers.Adam(learning_rate=1e-3),\n",
    "              loss = \"sparse_categorical_crossentropy\",\n",
    "              metrics = [\"accuracy\"])\n",
    "\n",
    "# Load dataset\n",
    "(train_dataset, val_dataset), test_dataset = load_data(train_img_dir, test_img_dir)\n",
    "\n",
    "from datetime import datetime\n",
    "now = datetime.today()\n",
    "current_time = now.strftime(\"%Y%m%d_%H-%M\")\n",
    "model_name = f\"{current_time}_fer_vggface-resnet50_finetuned_\"\n",
    "\n",
    "callbacks = [\n",
    "    keras.callbacks.ModelCheckpoint(\n",
    "        filepath=model_name + 'E{epoch:02d}-VLoss{val_loss:.2f}.keras',\n",
    "        save_best_only=False,\n",
    "        save_freq='epoch',\n",
    "        monitor=\"val_loss\",\n",
    "        verbose=1),\n",
    "    keras.callbacks.EarlyStopping(\n",
    "        monitor=\"val_loss\", \n",
    "        patience=20),\n",
    "    keras.callbacks.ReduceLROnPlateau(monitor=\"val_loss\", \n",
    "                                      factor=0.2, \n",
    "                                      patience=5, \n",
    "                                      verbose=1, \n",
    "                                      min_lr=1e-8)\n",
    "]\n",
    "\n",
    "# fit model\n",
    "print(f'Saving model as: {model_name}')\n",
    "history = model.fit(x=train_dataset, \n",
    "                    epochs=50, \n",
    "                    validation_data=val_dataset,\n",
    "                    class_weight=class_weights_dict,\n",
    "                    callbacks=callbacks)"
   ]
  },
  {
   "cell_type": "code",
   "execution_count": 8,
   "id": "c368e58c",
   "metadata": {},
   "outputs": [
    {
     "name": "stdout",
     "output_type": "stream",
     "text": [
      "125/125 [==============================] - 6s 44ms/step - loss: 1.1821 - accuracy: 0.5889\n",
      "Test accuracy: 0.589\n"
     ]
    }
   ],
   "source": [
    "model = history.model\n",
    "#print(f\"Evaluating: {model_name}\")\n",
    "test_loss, test_acc = model.evaluate(test_dataset)\n",
    "print(f\"Test accuracy: {test_acc:.3f}\")"
   ]
  },
  {
   "cell_type": "code",
   "execution_count": 31,
   "id": "18a4c311",
   "metadata": {
    "scrolled": true
   },
   "outputs": [
    {
     "name": "stdout",
     "output_type": "stream",
     "text": [
      "Evaluating: 20230714_21-50_fer_vggface-resnet50_finetuned_\n",
      "125/125 [==============================] - 5s 41ms/step - loss: 1.1506 - accuracy: 0.5886\n",
      "Test accuracy: 0.589\n"
     ]
    }
   ],
   "source": [
    "model = keras.models.load_model('20230714_21-50_fer_vggface-resnet50_finetuned_E11-VLoss0.99.keras')\n",
    "print(f\"Evaluating: {model_name}\")\n",
    "test_loss, test_acc = model.evaluate(test_dataset)\n",
    "print(f\"Test accuracy: {test_acc:.3f}\")"
   ]
  },
  {
   "cell_type": "code",
   "execution_count": 19,
   "id": "c75a3343",
   "metadata": {},
   "outputs": [
    {
     "name": "stdout",
     "output_type": "stream",
     "text": [
      "Evaluating: 20230714_21-50_fer_vggface-resnet50_finetuned_\n",
      "125/125 [==============================] - 5s 40ms/step - loss: 1.1677 - accuracy: 0.5916\n",
      "Test accuracy: 0.592\n"
     ]
    }
   ],
   "source": [
    "model = keras.models.load_model('20230714_21-50_fer_vggface-resnet50_finetuned_E21-VLoss0.97.keras')\n",
    "print(f\"Evaluating: {model_name}\")\n",
    "test_loss, test_acc = model.evaluate(test_dataset)\n",
    "print(f\"Test accuracy: {test_acc:.3f}\")"
   ]
  },
  {
   "cell_type": "markdown",
   "id": "36d7e0e1",
   "metadata": {},
   "source": [
    "## #1 Best Model so far"
   ]
  },
  {
   "cell_type": "code",
   "execution_count": 25,
   "id": "7c3a9087",
   "metadata": {},
   "outputs": [
    {
     "name": "stdout",
     "output_type": "stream",
     "text": [
      "Evaluating: 20230714_21-50_fer_vggface-resnet50_finetuned_\n",
      "125/125 [==============================] - 5s 40ms/step - loss: 1.1595 - accuracy: 0.5926\n",
      "Test accuracy: 0.593\n"
     ]
    }
   ],
   "source": [
    "model = keras.models.load_model('20230714_21-50_fer_vggface-resnet50_finetuned_E16-VLoss0.99.keras')\n",
    "print(f\"Evaluating: {model_name}\")\n",
    "test_loss, test_acc = model.evaluate(test_dataset)\n",
    "print(f\"Test accuracy: {test_acc:.3f}\")"
   ]
  },
  {
   "cell_type": "code",
   "execution_count": 9,
   "id": "d79c7e7d",
   "metadata": {},
   "outputs": [
    {
     "data": {
      "image/png": "[encoded data removed]",
      "text/plain": [
       "<Figure size 432x288 with 1 Axes>"
      ]
     },
     "metadata": {
      "needs_background": "light"
     },
     "output_type": "display_data"
    },
    {
     "data": {
      "image/png": "[encoded data removed]",
      "text/plain": [
       "<Figure size 432x288 with 1 Axes>"
      ]
     },
     "metadata": {
      "needs_background": "light"
     },
     "output_type": "display_data"
    }
   ],
   "source": [
    "plot_history(history)"
   ]
  },
  {
   "cell_type": "markdown",
   "id": "935e0438",
   "metadata": {},
   "source": [
    "---"
   ]
  },
  {
   "cell_type": "markdown",
   "id": "b6ce91e6",
   "metadata": {},
   "source": [
    "---"
   ]
  },
  {
   "cell_type": "code",
   "execution_count": 9,
   "id": "290490b3",
   "metadata": {},
   "outputs": [
    {
     "name": "stdout",
     "output_type": "stream",
     "text": [
      "Found 287651 files belonging to 8 classes.\n",
      "Using 230121 files for training.\n",
      "Using 57530 files for validation.\n",
      "Found 3999 files belonging to 8 classes.\n",
      "125/125 [==============================] - 4s 30ms/step - loss: 1.3543 - accuracy: 0.5279\n",
      "Test accuracy: 0.528\n"
     ]
    }
   ],
   "source": [
    "train_img_dir = '/home/lndr/Development/FER/AffectNet_sorted/train_set'\n",
    "test_img_dir = '/home/lndr/Development/FER/AffectNet_sorted/val_set'\n",
    "\n",
    "(train_dataset, val_dataset), test_dataset = load_data(train_img_dir, test_img_dir)\n",
    "\n",
    "model = keras.models.load_model('20230714_21-50_fer_vggface-resnet50_finetuned_E05-VLoss0.89.keras')\n",
    "test_loss, test_acc = model.evaluate(test_dataset)\n",
    "print(f\"Test accuracy: {test_acc:.3f}\")"
   ]
  },
  {
   "cell_type": "code",
   "execution_count": 13,
   "id": "16b37a17",
   "metadata": {},
   "outputs": [
    {
     "name": "stdout",
     "output_type": "stream",
     "text": [
      "Found 287651 files belonging to 8 classes.\n",
      "Using 230121 files for training.\n",
      "Using 57530 files for validation.\n",
      "Found 3999 files belonging to 8 classes.\n",
      "125/125 [==============================] - 4s 30ms/step - loss: 1.1821 - accuracy: 0.5891\n",
      "Test accuracy: 0.589\n"
     ]
    }
   ],
   "source": [
    "train_img_dir = '/home/lndr/Development/FER/AffectNet_sorted/train_set'\n",
    "test_img_dir = '/home/lndr/Development/FER/AffectNet_sorted/val_set'\n",
    "\n",
    "(train_dataset, val_dataset), test_dataset = load_data(train_img_dir, test_img_dir)\n",
    "\n",
    "model = keras.models.load_model('20230714_21-50_fer_vggface-resnet50_finetuned_E25-VLoss0.97.keras')\n",
    "test_loss, test_acc = model.evaluate(test_dataset)\n",
    "print(f\"Test accuracy: {test_acc:.3f}\")"
   ]
  },
  {
   "cell_type": "code",
   "execution_count": 14,
   "id": "84accb91",
   "metadata": {},
   "outputs": [
    {
     "name": "stdout",
     "output_type": "stream",
     "text": [
      "125/125 [==============================] - 4s 30ms/step - loss: 1.4456 - accuracy: 0.5201\n",
      "Test accuracy: 0.520\n"
     ]
    }
   ],
   "source": [
    "model = keras.models.load_model('20230714_21-50_fer_vggface-resnet50_finetuned_E09-VLoss0.92.keras')\n",
    "test_loss, test_acc = model.evaluate(test_dataset)\n",
    "print(f\"Test accuracy: {test_acc:.3f}\")"
   ]
  },
  {
   "cell_type": "code",
   "execution_count": 15,
   "id": "bdc7b044",
   "metadata": {},
   "outputs": [
    {
     "name": "stdout",
     "output_type": "stream",
     "text": [
      "125/125 [==============================] - 4s 30ms/step - loss: 1.5768 - accuracy: 0.5294\n",
      "Test accuracy: 0.529\n"
     ]
    }
   ],
   "source": [
    "model = keras.models.load_model('20230714_21-50_fer_vggface-resnet50_finetuned_E10-VLoss0.95.keras')\n",
    "test_loss, test_acc = model.evaluate(test_dataset)\n",
    "print(f\"Test accuracy: {test_acc:.3f}\")"
   ]
  },
  {
   "cell_type": "code",
   "execution_count": 17,
   "id": "eb9541a7",
   "metadata": {},
   "outputs": [
    {
     "name": "stdout",
     "output_type": "stream",
     "text": [
      "125/125 [==============================] - 4s 31ms/step - loss: 1.1660 - accuracy: 0.5884\n",
      "Test accuracy: 0.588\n"
     ]
    }
   ],
   "source": [
    "model = keras.models.load_model('20230714_21-50_fer_vggface-resnet50_finetuned_E15-VLoss0.98.keras')\n",
    "test_loss, test_acc = model.evaluate(test_dataset)\n",
    "print(f\"Test accuracy: {test_acc:.3f}\")"
   ]
  },
  {
   "cell_type": "code",
   "execution_count": 16,
   "id": "db636fc1",
   "metadata": {},
   "outputs": [
    {
     "name": "stdout",
     "output_type": "stream",
     "text": [
      "125/125 [==============================] - 4s 31ms/step - loss: 1.1595 - accuracy: 0.5926\n",
      "Test accuracy: 0.593\n"
     ]
    }
   ],
   "source": [
    "model = keras.models.load_model('20230714_21-50_fer_vggface-resnet50_finetuned_E16-VLoss0.99.keras')\n",
    "test_loss, test_acc = model.evaluate(test_dataset)\n",
    "print(f\"Test accuracy: {test_acc:.3f}\")"
   ]
  },
  {
   "cell_type": "code",
   "execution_count": 18,
   "id": "0b248a8e",
   "metadata": {
    "scrolled": true
   },
   "outputs": [
    {
     "name": "stdout",
     "output_type": "stream",
     "text": [
      "125/125 [==============================] - 4s 31ms/step - loss: 1.1598 - accuracy: 0.5904\n",
      "Test accuracy: 0.590\n"
     ]
    }
   ],
   "source": [
    "model = keras.models.load_model('20230714_21-50_fer_vggface-resnet50_finetuned_E17-VLoss0.99.keras')\n",
    "test_loss, test_acc = model.evaluate(test_dataset)\n",
    "print(f\"Test accuracy: {test_acc:.3f}\")"
   ]
  },
  {
   "cell_type": "code",
   "execution_count": 19,
   "id": "4d1e5854",
   "metadata": {},
   "outputs": [
    {
     "name": "stdout",
     "output_type": "stream",
     "text": [
      "125/125 [==============================] - 4s 31ms/step - loss: 1.1714 - accuracy: 0.5891\n",
      "Test accuracy: 0.589\n"
     ]
    }
   ],
   "source": [
    "model = keras.models.load_model('20230714_21-50_fer_vggface-resnet50_finetuned_E24-VLoss0.97.keras')\n",
    "test_loss, test_acc = model.evaluate(test_dataset)\n",
    "print(f\"Test accuracy: {test_acc:.3f}\")"
   ]
  },
  {
   "cell_type": "code",
   "execution_count": 8,
   "id": "44afb151",
   "metadata": {},
   "outputs": [
    {
     "name": "stdout",
     "output_type": "stream",
     "text": [
      "Found 287651 files belonging to 8 classes.\n",
      "Using 230121 files for training.\n",
      "Using 57530 files for validation.\n",
      "Found 3999 files belonging to 8 classes.\n",
      "125/125 [==============================] - 6s 34ms/step - loss: 1.8172 - accuracy: 0.3798\n",
      "Test accuracy: 0.380\n"
     ]
    }
   ],
   "source": [
    "train_img_dir = '/home/lndr/Development/FER/AffectNet_sorted/train_set'\n",
    "test_img_dir = '/home/lndr/Development/FER/AffectNet_Occluded/val_set'\n",
    "\n",
    "(train_dataset, val_dataset), test_dataset = load_data(train_img_dir, test_img_dir)\n",
    "\n",
    "model = keras.models.load_model('20230714_21-50_fer_vggface-resnet50_finetuned_E16-VLoss0.99.keras')\n",
    "test_loss, test_acc = model.evaluate(test_dataset)\n",
    "print(f\"Test accuracy: {test_acc:.3f}\")"
   ]
  },
  {
   "cell_type": "code",
   "execution_count": 9,
   "id": "9d6d9856",
   "metadata": {},
   "outputs": [
    {
     "name": "stdout",
     "output_type": "stream",
     "text": [
      "Found 287651 files belonging to 8 classes.\n",
      "Using 230121 files for training.\n",
      "Using 57530 files for validation.\n",
      "Found 3999 files belonging to 8 classes.\n",
      "125/125 [==============================] - 4s 31ms/step - loss: 1.8285 - accuracy: 0.3808\n",
      "Test accuracy: 0.381\n"
     ]
    }
   ],
   "source": [
    "train_img_dir = '/home/lndr/Development/FER/AffectNet_sorted/train_set'\n",
    "test_img_dir = '/home/lndr/Development/FER/AffectNet_Occluded/val_set'\n",
    "\n",
    "(train_dataset, val_dataset), test_dataset = load_data(train_img_dir, test_img_dir)\n",
    "\n",
    "model = keras.models.load_model('20230714_21-50_fer_vggface-resnet50_finetuned_E25-VLoss0.97.keras')\n",
    "test_loss, test_acc = model.evaluate(test_dataset)\n",
    "print(f\"Test accuracy: {test_acc:.3f}\")"
   ]
  },
  {
   "cell_type": "markdown",
   "id": "4df5529e",
   "metadata": {},
   "source": [
    "---"
   ]
  },
  {
   "cell_type": "markdown",
   "id": "cef9b8f8",
   "metadata": {},
   "source": [
    "# Train Occluded Images 224x224"
   ]
  },
  {
   "cell_type": "code",
   "execution_count": 10,
   "id": "c742d41f",
   "metadata": {
    "scrolled": false
   },
   "outputs": [
    {
     "name": "stdout",
     "output_type": "stream",
     "text": [
      "Found 287651 files belonging to 8 classes.\n",
      "Using 230121 files for training.\n",
      "Using 57530 files for validation.\n",
      "Found 3999 files belonging to 8 classes.\n",
      "Saving model as: 20230919_19-18_fer_vggface-resnet50_finetuned_\n",
      "Epoch 1/50\n",
      "7192/7192 [==============================] - ETA: 0s - loss: 0.0568 - accuracy: 0.4226\n",
      "Epoch 1: saving model to 20230919_19-18_fer_vggface-resnet50_finetuned_E01-VLoss1.30.keras\n",
      "7192/7192 [==============================] - 386s 53ms/step - loss: 0.0568 - accuracy: 0.4226 - val_loss: 1.2970 - val_accuracy: 0.4807 - lr: 0.0010\n",
      "Epoch 2/50\n",
      "7191/7192 [============================>.] - ETA: 0s - loss: 0.0528 - accuracy: 0.4567\n",
      "Epoch 2: saving model to 20230919_19-18_fer_vggface-resnet50_finetuned_E02-VLoss1.28.keras\n",
      "7192/7192 [==============================] - 381s 53ms/step - loss: 0.0528 - accuracy: 0.4567 - val_loss: 1.2784 - val_accuracy: 0.4934 - lr: 0.0010\n",
      "Epoch 3/50\n",
      "7191/7192 [============================>.] - ETA: 0s - loss: 0.0515 - accuracy: 0.4655\n",
      "Epoch 3: saving model to 20230919_19-18_fer_vggface-resnet50_finetuned_E03-VLoss1.22.keras\n",
      "7192/7192 [==============================] - 382s 53ms/step - loss: 0.0515 - accuracy: 0.4655 - val_loss: 1.2221 - val_accuracy: 0.5248 - lr: 0.0010\n",
      "Epoch 4/50\n",
      "7191/7192 [============================>.] - ETA: 0s - loss: 0.0505 - accuracy: 0.4727\n",
      "Epoch 4: saving model to 20230919_19-18_fer_vggface-resnet50_finetuned_E04-VLoss1.38.keras\n",
      "7192/7192 [==============================] - 379s 53ms/step - loss: 0.0505 - accuracy: 0.4727 - val_loss: 1.3829 - val_accuracy: 0.4753 - lr: 0.0010\n",
      "Epoch 5/50\n",
      "7192/7192 [==============================] - ETA: 0s - loss: 0.0499 - accuracy: 0.4777\n",
      "Epoch 5: saving model to 20230919_19-18_fer_vggface-resnet50_finetuned_E05-VLoss1.20.keras\n",
      "7192/7192 [==============================] - 377s 52ms/step - loss: 0.0499 - accuracy: 0.4777 - val_loss: 1.2040 - val_accuracy: 0.5453 - lr: 0.0010\n",
      "Epoch 6/50\n",
      "7192/7192 [==============================] - ETA: 0s - loss: 0.0495 - accuracy: 0.4823\n",
      "Epoch 6: saving model to 20230919_19-18_fer_vggface-resnet50_finetuned_E06-VLoss1.18.keras\n",
      "7192/7192 [==============================] - 377s 52ms/step - loss: 0.0495 - accuracy: 0.4823 - val_loss: 1.1751 - val_accuracy: 0.5386 - lr: 0.0010\n",
      "Epoch 7/50\n",
      "7192/7192 [==============================] - ETA: 0s - loss: 0.0490 - accuracy: 0.4853\n",
      "Epoch 7: saving model to 20230919_19-18_fer_vggface-resnet50_finetuned_E07-VLoss1.27.keras\n",
      "7192/7192 [==============================] - 377s 52ms/step - loss: 0.0490 - accuracy: 0.4853 - val_loss: 1.2669 - val_accuracy: 0.5119 - lr: 0.0010\n",
      "Epoch 8/50\n",
      "7191/7192 [============================>.] - ETA: 0s - loss: 0.0488 - accuracy: 0.4851\n",
      "Epoch 8: saving model to 20230919_19-18_fer_vggface-resnet50_finetuned_E08-VLoss1.19.keras\n",
      "7192/7192 [==============================] - 378s 53ms/step - loss: 0.0488 - accuracy: 0.4851 - val_loss: 1.1928 - val_accuracy: 0.5303 - lr: 0.0010\n",
      "Epoch 9/50\n",
      "7192/7192 [==============================] - ETA: 0s - loss: 0.0484 - accuracy: 0.4888\n",
      "Epoch 9: saving model to 20230919_19-18_fer_vggface-resnet50_finetuned_E09-VLoss1.24.keras\n",
      "7192/7192 [==============================] - 377s 52ms/step - loss: 0.0484 - accuracy: 0.4888 - val_loss: 1.2447 - val_accuracy: 0.5221 - lr: 0.0010\n",
      "Epoch 10/50\n",
      "7192/7192 [==============================] - ETA: 0s - loss: 0.0481 - accuracy: 0.4923\n",
      "Epoch 10: saving model to 20230919_19-18_fer_vggface-resnet50_finetuned_E10-VLoss1.23.keras\n",
      "7192/7192 [==============================] - 376s 52ms/step - loss: 0.0481 - accuracy: 0.4923 - val_loss: 1.2256 - val_accuracy: 0.5025 - lr: 0.0010\n",
      "Epoch 11/50\n",
      "7191/7192 [============================>.] - ETA: 0s - loss: 0.0479 - accuracy: 0.4910\n",
      "Epoch 11: saving model to 20230919_19-18_fer_vggface-resnet50_finetuned_E11-VLoss1.15.keras\n",
      "7192/7192 [==============================] - 370s 52ms/step - loss: 0.0479 - accuracy: 0.4910 - val_loss: 1.1522 - val_accuracy: 0.5596 - lr: 0.0010\n",
      "Epoch 12/50\n",
      "7192/7192 [==============================] - ETA: 0s - loss: 0.0476 - accuracy: 0.4953\n",
      "Epoch 12: saving model to 20230919_19-18_fer_vggface-resnet50_finetuned_E12-VLoss1.16.keras\n",
      "7192/7192 [==============================] - 367s 51ms/step - loss: 0.0476 - accuracy: 0.4953 - val_loss: 1.1616 - val_accuracy: 0.5630 - lr: 0.0010\n",
      "Epoch 13/50\n",
      "7192/7192 [==============================] - ETA: 0s - loss: 0.0474 - accuracy: 0.4950\n",
      "Epoch 13: saving model to 20230919_19-18_fer_vggface-resnet50_finetuned_E13-VLoss1.14.keras\n",
      "7192/7192 [==============================] - 366s 51ms/step - loss: 0.0474 - accuracy: 0.4950 - val_loss: 1.1352 - val_accuracy: 0.5652 - lr: 0.0010\n",
      "Epoch 14/50\n",
      "7192/7192 [==============================] - ETA: 0s - loss: 0.0473 - accuracy: 0.4986\n",
      "Epoch 14: saving model to 20230919_19-18_fer_vggface-resnet50_finetuned_E14-VLoss1.12.keras\n",
      "7192/7192 [==============================] - 367s 51ms/step - loss: 0.0473 - accuracy: 0.4986 - val_loss: 1.1230 - val_accuracy: 0.5688 - lr: 0.0010\n",
      "Epoch 15/50\n",
      "7192/7192 [==============================] - ETA: 0s - loss: 0.0471 - accuracy: 0.4966\n",
      "Epoch 15: saving model to 20230919_19-18_fer_vggface-resnet50_finetuned_E15-VLoss1.15.keras\n",
      "7192/7192 [==============================] - 368s 51ms/step - loss: 0.0471 - accuracy: 0.4966 - val_loss: 1.1474 - val_accuracy: 0.5647 - lr: 0.0010\n",
      "Epoch 16/50\n",
      "7192/7192 [==============================] - ETA: 0s - loss: 0.0469 - accuracy: 0.5009\n",
      "Epoch 16: saving model to 20230919_19-18_fer_vggface-resnet50_finetuned_E16-VLoss1.19.keras\n",
      "7192/7192 [==============================] - 366s 51ms/step - loss: 0.0469 - accuracy: 0.5009 - val_loss: 1.1930 - val_accuracy: 0.5402 - lr: 0.0010\n",
      "Epoch 17/50\n",
      "7192/7192 [==============================] - ETA: 0s - loss: 0.0469 - accuracy: 0.5001\n",
      "Epoch 17: saving model to 20230919_19-18_fer_vggface-resnet50_finetuned_E17-VLoss1.14.keras\n",
      "7192/7192 [==============================] - 367s 51ms/step - loss: 0.0469 - accuracy: 0.5001 - val_loss: 1.1365 - val_accuracy: 0.5731 - lr: 0.0010\n",
      "Epoch 18/50\n",
      "7192/7192 [==============================] - ETA: 0s - loss: 0.0465 - accuracy: 0.5021\n",
      "Epoch 18: saving model to 20230919_19-18_fer_vggface-resnet50_finetuned_E18-VLoss1.16.keras\n",
      "7192/7192 [==============================] - 367s 51ms/step - loss: 0.0465 - accuracy: 0.5021 - val_loss: 1.1563 - val_accuracy: 0.5505 - lr: 0.0010\n",
      "Epoch 19/50\n",
      "7192/7192 [==============================] - ETA: 0s - loss: 0.0463 - accuracy: 0.5028\n",
      "Epoch 19: saving model to 20230919_19-18_fer_vggface-resnet50_finetuned_E19-VLoss1.14.keras\n",
      "\n",
      "Epoch 19: ReduceLROnPlateau reducing learning rate to 0.00020000000949949026.\n",
      "7192/7192 [==============================] - 367s 51ms/step - loss: 0.0463 - accuracy: 0.5028 - val_loss: 1.1365 - val_accuracy: 0.5660 - lr: 0.0010\n",
      "Epoch 20/50\n",
      "7192/7192 [==============================] - ETA: 0s - loss: 0.0451 - accuracy: 0.5131\n",
      "Epoch 20: saving model to 20230919_19-18_fer_vggface-resnet50_finetuned_E20-VLoss1.17.keras\n",
      "7192/7192 [==============================] - 367s 51ms/step - loss: 0.0451 - accuracy: 0.5131 - val_loss: 1.1651 - val_accuracy: 0.5511 - lr: 2.0000e-04\n",
      "Epoch 21/50\n",
      "7192/7192 [==============================] - ETA: 0s - loss: 0.0449 - accuracy: 0.5121\n",
      "Epoch 21: saving model to 20230919_19-18_fer_vggface-resnet50_finetuned_E21-VLoss1.15.keras\n",
      "7192/7192 [==============================] - 367s 51ms/step - loss: 0.0449 - accuracy: 0.5121 - val_loss: 1.1517 - val_accuracy: 0.5561 - lr: 2.0000e-04\n",
      "Epoch 22/50\n",
      "7192/7192 [==============================] - ETA: 0s - loss: 0.0446 - accuracy: 0.5154\n",
      "Epoch 22: saving model to 20230919_19-18_fer_vggface-resnet50_finetuned_E22-VLoss1.15.keras\n",
      "7192/7192 [==============================] - 367s 51ms/step - loss: 0.0446 - accuracy: 0.5154 - val_loss: 1.1456 - val_accuracy: 0.5608 - lr: 2.0000e-04\n",
      "Epoch 23/50\n",
      "7192/7192 [==============================] - ETA: 0s - loss: 0.0444 - accuracy: 0.5174\n",
      "Epoch 23: saving model to 20230919_19-18_fer_vggface-resnet50_finetuned_E23-VLoss1.14.keras\n",
      "7192/7192 [==============================] - 367s 51ms/step - loss: 0.0444 - accuracy: 0.5174 - val_loss: 1.1423 - val_accuracy: 0.5657 - lr: 2.0000e-04\n",
      "Epoch 24/50\n",
      "7192/7192 [==============================] - ETA: 0s - loss: 0.0444 - accuracy: 0.5175\n",
      "Epoch 24: saving model to 20230919_19-18_fer_vggface-resnet50_finetuned_E24-VLoss1.15.keras\n",
      "\n",
      "Epoch 24: ReduceLROnPlateau reducing learning rate to 4.0000001899898055e-05.\n",
      "7192/7192 [==============================] - 367s 51ms/step - loss: 0.0444 - accuracy: 0.5175 - val_loss: 1.1497 - val_accuracy: 0.5558 - lr: 2.0000e-04\n",
      "Epoch 25/50\n",
      "7191/7192 [============================>.] - ETA: 0s - loss: 0.0441 - accuracy: 0.5198\n",
      "Epoch 25: saving model to 20230919_19-18_fer_vggface-resnet50_finetuned_E25-VLoss1.16.keras\n",
      "7192/7192 [==============================] - 367s 51ms/step - loss: 0.0441 - accuracy: 0.5198 - val_loss: 1.1596 - val_accuracy: 0.5566 - lr: 4.0000e-05\n",
      "Epoch 26/50\n",
      "7192/7192 [==============================] - ETA: 0s - loss: 0.0440 - accuracy: 0.5198\n",
      "Epoch 26: saving model to 20230919_19-18_fer_vggface-resnet50_finetuned_E26-VLoss1.15.keras\n",
      "7192/7192 [==============================] - 367s 51ms/step - loss: 0.0440 - accuracy: 0.5198 - val_loss: 1.1450 - val_accuracy: 0.5630 - lr: 4.0000e-05\n",
      "Epoch 27/50\n",
      "7192/7192 [==============================] - ETA: 0s - loss: 0.0439 - accuracy: 0.5227\n",
      "Epoch 27: saving model to 20230919_19-18_fer_vggface-resnet50_finetuned_E27-VLoss1.15.keras\n",
      "7192/7192 [==============================] - 367s 51ms/step - loss: 0.0439 - accuracy: 0.5227 - val_loss: 1.1491 - val_accuracy: 0.5625 - lr: 4.0000e-05\n",
      "Epoch 28/50\n",
      "7192/7192 [==============================] - ETA: 0s - loss: 0.0437 - accuracy: 0.5205\n",
      "Epoch 28: saving model to 20230919_19-18_fer_vggface-resnet50_finetuned_E28-VLoss1.15.keras\n",
      "7192/7192 [==============================] - 370s 52ms/step - loss: 0.0437 - accuracy: 0.5205 - val_loss: 1.1526 - val_accuracy: 0.5604 - lr: 4.0000e-05\n",
      "Epoch 29/50\n",
      "7192/7192 [==============================] - ETA: 0s - loss: 0.0439 - accuracy: 0.5208\n",
      "Epoch 29: saving model to 20230919_19-18_fer_vggface-resnet50_finetuned_E29-VLoss1.15.keras\n",
      "\n",
      "Epoch 29: ReduceLROnPlateau reducing learning rate to 8.000000525498762e-06.\n",
      "7192/7192 [==============================] - 364s 51ms/step - loss: 0.0439 - accuracy: 0.5208 - val_loss: 1.1475 - val_accuracy: 0.5609 - lr: 4.0000e-05\n",
      "Epoch 30/50\n",
      "7192/7192 [==============================] - ETA: 0s - loss: 0.0437 - accuracy: 0.5228\n",
      "Epoch 30: saving model to 20230919_19-18_fer_vggface-resnet50_finetuned_E30-VLoss1.16.keras\n",
      "7192/7192 [==============================] - 362s 50ms/step - loss: 0.0437 - accuracy: 0.5228 - val_loss: 1.1576 - val_accuracy: 0.5596 - lr: 8.0000e-06\n",
      "Epoch 31/50\n",
      "7192/7192 [==============================] - ETA: 0s - loss: 0.0438 - accuracy: 0.5236\n",
      "Epoch 31: saving model to 20230919_19-18_fer_vggface-resnet50_finetuned_E31-VLoss1.16.keras\n",
      "7192/7192 [==============================] - 363s 50ms/step - loss: 0.0438 - accuracy: 0.5236 - val_loss: 1.1558 - val_accuracy: 0.5601 - lr: 8.0000e-06\n",
      "Epoch 32/50\n",
      "7192/7192 [==============================] - ETA: 0s - loss: 0.0438 - accuracy: 0.5224\n",
      "Epoch 32: saving model to 20230919_19-18_fer_vggface-resnet50_finetuned_E32-VLoss1.15.keras\n",
      "7192/7192 [==============================] - 363s 50ms/step - loss: 0.0438 - accuracy: 0.5224 - val_loss: 1.1513 - val_accuracy: 0.5625 - lr: 8.0000e-06\n",
      "Epoch 33/50\n",
      "7192/7192 [==============================] - ETA: 0s - loss: 0.0438 - accuracy: 0.5215\n",
      "Epoch 33: saving model to 20230919_19-18_fer_vggface-resnet50_finetuned_E33-VLoss1.15.keras\n",
      "7192/7192 [==============================] - 362s 50ms/step - loss: 0.0438 - accuracy: 0.5215 - val_loss: 1.1541 - val_accuracy: 0.5605 - lr: 8.0000e-06\n",
      "Epoch 34/50\n",
      "7192/7192 [==============================] - ETA: 0s - loss: 0.0438 - accuracy: 0.5233\n",
      "Epoch 34: saving model to 20230919_19-18_fer_vggface-resnet50_finetuned_E34-VLoss1.16.keras\n",
      "\n",
      "Epoch 34: ReduceLROnPlateau reducing learning rate to 1.6000001778593287e-06.\n",
      "7192/7192 [==============================] - 363s 50ms/step - loss: 0.0438 - accuracy: 0.5233 - val_loss: 1.1557 - val_accuracy: 0.5590 - lr: 8.0000e-06\n"
     ]
    }
   ],
   "source": [
    "from tensorflow.keras import layers\n",
    "from keras_vggface.vggface import VGGFace\n",
    "\n",
    "train_img_dir = '/home/lndr/Development/FER/AffectNet_Occluded/train_set'\n",
    "test_img_dir = '/home/lndr/Development/FER/AffectNet_Occluded/val_set'\n",
    "\n",
    "# Define Data Augmentation Layer\n",
    "data_augmentation = keras.Sequential(\n",
    "    [\n",
    "        layers.RandomFlip(\"horizontal_and_vertical\"),\n",
    "        layers.RandomRotation(0.1),\n",
    "        layers.RandomBrightness(.2),\n",
    "        layers.RandomContrast(.2),\n",
    "        layers.RandomZoom(.3, fill_mode=\"constant\"),\n",
    "    ]\n",
    ")\n",
    "\n",
    "# Load Base Model\n",
    "vgg_model = VGGFace(model=\"resnet50\", include_top=False, input_shape=(224, 224, 3))\n",
    "vgg_model.trainable = True\n",
    "for layer in vgg_model.layers[:-33]: # starting with res5\n",
    "    layer.trainable = False\n",
    "    \n",
    "# Add Head Model (Finetune)\n",
    "inputs = keras.Input(shape=(224, 224, 3))\n",
    "x = data_augmentation(inputs)\n",
    "x = keras.applications.resnet.preprocess_input(x)\n",
    "x = vgg_model(x)\n",
    "x = layers.Flatten(name='flatten')(x)\n",
    "x = layers.Dense(1024, activation=\"relu\")(x)\n",
    "outputs = layers.Dense(8, activation='softmax', name='classifier', dtype=\"float32\")(x) # opt-out mixed precision for softmax layer\n",
    "model = keras.Model(inputs, outputs)\n",
    "\n",
    "\n",
    "#vgg_model.summary()\n",
    "model.compile(optimizer=tf.keras.optimizers.Adam(learning_rate=1e-3),\n",
    "              loss = \"sparse_categorical_crossentropy\",\n",
    "              metrics = [\"accuracy\"])\n",
    "\n",
    "# Load dataset\n",
    "(train_dataset, val_dataset), test_dataset = load_data(train_img_dir, test_img_dir)\n",
    "\n",
    "from datetime import datetime\n",
    "now = datetime.today()\n",
    "current_time = now.strftime(\"%Y%m%d_%H-%M\")\n",
    "model_name = f\"{current_time}_fer_vggface-resnet50_finetuned_\"\n",
    "\n",
    "callbacks = [\n",
    "    keras.callbacks.ModelCheckpoint(\n",
    "        filepath=model_name + 'E{epoch:02d}-VLoss{val_loss:.2f}.keras',\n",
    "        save_best_only=False,\n",
    "        save_freq='epoch',\n",
    "        monitor=\"val_loss\",\n",
    "        verbose=1),\n",
    "    keras.callbacks.EarlyStopping(\n",
    "        monitor=\"val_loss\", \n",
    "        patience=20),\n",
    "    keras.callbacks.ReduceLROnPlateau(monitor=\"val_loss\", \n",
    "                                      factor=0.2, \n",
    "                                      patience=5, \n",
    "                                      verbose=1, \n",
    "                                      min_lr=1e-8)\n",
    "]\n",
    "\n",
    "# fit model\n",
    "print(f'Saving model as: {model_name}')\n",
    "history = model.fit(x=train_dataset, \n",
    "                    epochs=50, \n",
    "                    validation_data=val_dataset,\n",
    "                    class_weight=class_weights_dict,\n",
    "                    callbacks=callbacks)"
   ]
  },
  {
   "cell_type": "code",
   "execution_count": 11,
   "id": "50b6822c",
   "metadata": {},
   "outputs": [
    {
     "name": "stdout",
     "output_type": "stream",
     "text": [
      "125/125 [==============================] - 4s 30ms/step - loss: 1.3890 - accuracy: 0.4964\n",
      "Test accuracy: 0.496\n"
     ]
    }
   ],
   "source": [
    "model = history.model\n",
    "#print(f\"Evaluating: {model_name}\")\n",
    "test_loss, test_acc = model.evaluate(test_dataset)\n",
    "print(f\"Test accuracy: {test_acc:.3f}\")"
   ]
  },
  {
   "cell_type": "code",
   "execution_count": 12,
   "id": "238fd772",
   "metadata": {},
   "outputs": [
    {
     "data": {
      "image/png": "[encoded data removed]",
      "text/plain": [
       "<Figure size 432x288 with 1 Axes>"
      ]
     },
     "metadata": {
      "needs_background": "light"
     },
     "output_type": "display_data"
    },
    {
     "data": {
      "image/png": "[encoded data removed]",
      "text/plain": [
       "<Figure size 432x288 with 1 Axes>"
      ]
     },
     "metadata": {
      "needs_background": "light"
     },
     "output_type": "display_data"
    }
   ],
   "source": [
    "plot_history(history)"
   ]
  },
  {
   "cell_type": "code",
   "execution_count": 13,
   "id": "15b678fc",
   "metadata": {},
   "outputs": [
    {
     "name": "stdout",
     "output_type": "stream",
     "text": [
      "Found 287651 files belonging to 8 classes.\n",
      "Using 230121 files for training.\n",
      "Using 57530 files for validation.\n",
      "Found 3999 files belonging to 8 classes.\n",
      "125/125 [==============================] - 4s 30ms/step - loss: 1.5414 - accuracy: 0.4721\n",
      "Test accuracy: 0.472\n"
     ]
    }
   ],
   "source": [
    "train_img_dir = '/home/lndr/Development/FER/AffectNet_sorted/train_set'\n",
    "test_img_dir = '/home/lndr/Development/FER/AffectNet_sorted/val_set'\n",
    "\n",
    "(train_dataset, val_dataset), test_dataset = load_data(train_img_dir, test_img_dir)\n",
    "\n",
    "model = history.model\n",
    "test_loss, test_acc = model.evaluate(test_dataset)\n",
    "print(f\"Test accuracy: {test_acc:.3f}\")"
   ]
  },
  {
   "cell_type": "code",
   "execution_count": 14,
   "id": "e3b1ec48",
   "metadata": {},
   "outputs": [
    {
     "name": "stdout",
     "output_type": "stream",
     "text": [
      "Found 287651 files belonging to 8 classes.\n",
      "Using 230121 files for training.\n",
      "Using 57530 files for validation.\n",
      "Found 3999 files belonging to 8 classes.\n",
      "125/125 [==============================] - 4s 30ms/step - loss: 1.4647 - accuracy: 0.4639\n",
      "Test accuracy: 0.464\n"
     ]
    }
   ],
   "source": [
    "train_img_dir = '/home/lndr/Development/FER/AffectNet_sorted/train_set'\n",
    "test_img_dir = '/home/lndr/Development/FER/AffectNet_Occluded/val_set'\n",
    "\n",
    "(train_dataset, val_dataset), test_dataset = load_data(train_img_dir, test_img_dir)\n",
    "\n",
    "model = keras.models.load_model('20230919_19-18_fer_vggface-resnet50_finetuned_E14-VLoss1.12.keras')\n",
    "test_loss, test_acc = model.evaluate(test_dataset)\n",
    "print(f\"Test accuracy: {test_acc:.3f}\")"
   ]
  },
  {
   "cell_type": "code",
   "execution_count": 15,
   "id": "451c60a1",
   "metadata": {},
   "outputs": [
    {
     "name": "stdout",
     "output_type": "stream",
     "text": [
      "Found 287651 files belonging to 8 classes.\n",
      "Using 230121 files for training.\n",
      "Using 57530 files for validation.\n",
      "Found 3999 files belonging to 8 classes.\n",
      "125/125 [==============================] - 4s 31ms/step - loss: 1.5156 - accuracy: 0.4469\n",
      "Test accuracy: 0.447\n"
     ]
    }
   ],
   "source": [
    "train_img_dir = '/home/lndr/Development/FER/AffectNet_sorted/train_set'\n",
    "test_img_dir = '/home/lndr/Development/FER/AffectNet_sorted/val_set'\n",
    "\n",
    "(train_dataset, val_dataset), test_dataset = load_data(train_img_dir, test_img_dir)\n",
    "\n",
    "model = keras.models.load_model('20230919_19-18_fer_vggface-resnet50_finetuned_E14-VLoss1.12.keras')\n",
    "test_loss, test_acc = model.evaluate(test_dataset)\n",
    "print(f\"Test accuracy: {test_acc:.3f}\")"
   ]
  },
  {
   "cell_type": "markdown",
   "id": "882a9659",
   "metadata": {},
   "source": [
    "# Train 50% Occluded Images 224x224"
   ]
  },
  {
   "cell_type": "code",
   "execution_count": 6,
   "id": "65e3a90f",
   "metadata": {
    "scrolled": false
   },
   "outputs": [
    {
     "name": "stdout",
     "output_type": "stream",
     "text": [
      "Found 287651 files belonging to 8 classes.\n",
      "Using 230121 files for training.\n",
      "Using 57530 files for validation.\n",
      "Found 3999 files belonging to 8 classes.\n",
      "Saving model as: 20230920_23-07_fer_vggface-resnet50_finetuned_\n",
      "Epoch 1/50\n",
      "7192/7192 [==============================] - ETA: 0s - loss: 0.0541 - accuracy: 0.4449\n",
      "Epoch 1: saving model to 20230920_23-07_fer_vggface-resnet50_finetuned_E01-VLoss1.56.keras\n",
      "7192/7192 [==============================] - 437s 60ms/step - loss: 0.0541 - accuracy: 0.4449 - val_loss: 1.5585 - val_accuracy: 0.3835 - lr: 0.0010\n",
      "Epoch 2/50\n",
      "7191/7192 [============================>.] - ETA: 0s - loss: 0.0493 - accuracy: 0.4844\n",
      "Epoch 2: saving model to 20230920_23-07_fer_vggface-resnet50_finetuned_E02-VLoss2.08.keras\n",
      "7192/7192 [==============================] - 404s 56ms/step - loss: 0.0493 - accuracy: 0.4844 - val_loss: 2.0762 - val_accuracy: 0.2770 - lr: 0.0010\n",
      "Epoch 3/50\n",
      "7192/7192 [==============================] - ETA: 0s - loss: 0.0477 - accuracy: 0.4968\n",
      "Epoch 3: saving model to 20230920_23-07_fer_vggface-resnet50_finetuned_E03-VLoss1.42.keras\n",
      "7192/7192 [==============================] - 404s 56ms/step - loss: 0.0477 - accuracy: 0.4968 - val_loss: 1.4242 - val_accuracy: 0.4571 - lr: 0.0010\n",
      "Epoch 4/50\n",
      "7191/7192 [============================>.] - ETA: 0s - loss: 0.0466 - accuracy: 0.5056\n",
      "Epoch 4: saving model to 20230920_23-07_fer_vggface-resnet50_finetuned_E04-VLoss1.29.keras\n",
      "7192/7192 [==============================] - 404s 56ms/step - loss: 0.0466 - accuracy: 0.5056 - val_loss: 1.2870 - val_accuracy: 0.4893 - lr: 0.0010\n",
      "Epoch 5/50\n",
      "7191/7192 [============================>.] - ETA: 0s - loss: 0.0460 - accuracy: 0.5088\n",
      "Epoch 5: saving model to 20230920_23-07_fer_vggface-resnet50_finetuned_E05-VLoss1.21.keras\n",
      "7192/7192 [==============================] - 404s 56ms/step - loss: 0.0460 - accuracy: 0.5088 - val_loss: 1.2103 - val_accuracy: 0.5229 - lr: 0.0010\n",
      "Epoch 6/50\n",
      "7191/7192 [============================>.] - ETA: 0s - loss: 0.0455 - accuracy: 0.5138\n",
      "Epoch 6: saving model to 20230920_23-07_fer_vggface-resnet50_finetuned_E06-VLoss1.26.keras\n",
      "7192/7192 [==============================] - 405s 56ms/step - loss: 0.0455 - accuracy: 0.5138 - val_loss: 1.2555 - val_accuracy: 0.5117 - lr: 0.0010\n",
      "Epoch 7/50\n",
      "7192/7192 [==============================] - ETA: 0s - loss: 0.0448 - accuracy: 0.5174\n",
      "Epoch 7: saving model to 20230920_23-07_fer_vggface-resnet50_finetuned_E07-VLoss1.30.keras\n",
      "7192/7192 [==============================] - 405s 56ms/step - loss: 0.0448 - accuracy: 0.5174 - val_loss: 1.3027 - val_accuracy: 0.5066 - lr: 0.0010\n",
      "Epoch 8/50\n",
      "7191/7192 [============================>.] - ETA: 0s - loss: 0.0445 - accuracy: 0.5193\n",
      "Epoch 8: saving model to 20230920_23-07_fer_vggface-resnet50_finetuned_E08-VLoss1.27.keras\n",
      "7192/7192 [==============================] - 405s 56ms/step - loss: 0.0445 - accuracy: 0.5193 - val_loss: 1.2746 - val_accuracy: 0.5426 - lr: 0.0010\n",
      "Epoch 9/50\n",
      "7192/7192 [==============================] - ETA: 0s - loss: 0.0443 - accuracy: 0.5198\n",
      "Epoch 9: saving model to 20230920_23-07_fer_vggface-resnet50_finetuned_E09-VLoss1.23.keras\n",
      "7192/7192 [==============================] - 403s 56ms/step - loss: 0.0443 - accuracy: 0.5198 - val_loss: 1.2272 - val_accuracy: 0.5323 - lr: 0.0010\n",
      "Epoch 10/50\n",
      "7192/7192 [==============================] - ETA: 0s - loss: 0.0440 - accuracy: 0.5235\n",
      "Epoch 10: saving model to 20230920_23-07_fer_vggface-resnet50_finetuned_E10-VLoss1.36.keras\n",
      "\n",
      "Epoch 10: ReduceLROnPlateau reducing learning rate to 0.00020000000949949026.\n",
      "7192/7192 [==============================] - 403s 56ms/step - loss: 0.0440 - accuracy: 0.5235 - val_loss: 1.3594 - val_accuracy: 0.5105 - lr: 0.0010\n",
      "Epoch 11/50\n",
      "7191/7192 [============================>.] - ETA: 0s - loss: 0.0422 - accuracy: 0.5401\n",
      "Epoch 11: saving model to 20230920_23-07_fer_vggface-resnet50_finetuned_E11-VLoss1.12.keras\n",
      "7192/7192 [==============================] - 397s 55ms/step - loss: 0.0422 - accuracy: 0.5401 - val_loss: 1.1193 - val_accuracy: 0.5631 - lr: 2.0000e-04\n",
      "Epoch 12/50\n",
      "7192/7192 [==============================] - ETA: 0s - loss: 0.0417 - accuracy: 0.5385\n",
      "Epoch 12: saving model to 20230920_23-07_fer_vggface-resnet50_finetuned_E12-VLoss1.11.keras\n",
      "7192/7192 [==============================] - 385s 54ms/step - loss: 0.0417 - accuracy: 0.5385 - val_loss: 1.1095 - val_accuracy: 0.5677 - lr: 2.0000e-04\n",
      "Epoch 13/50\n",
      "7192/7192 [==============================] - ETA: 0s - loss: 0.0414 - accuracy: 0.5405\n",
      "Epoch 13: saving model to 20230920_23-07_fer_vggface-resnet50_finetuned_E13-VLoss1.13.keras\n",
      "7192/7192 [==============================] - 401s 56ms/step - loss: 0.0414 - accuracy: 0.5405 - val_loss: 1.1294 - val_accuracy: 0.5579 - lr: 2.0000e-04\n",
      "Epoch 14/50\n",
      "7192/7192 [==============================] - ETA: 0s - loss: 0.0411 - accuracy: 0.5406\n",
      "Epoch 14: saving model to 20230920_23-07_fer_vggface-resnet50_finetuned_E14-VLoss1.13.keras\n",
      "7192/7192 [==============================] - 401s 56ms/step - loss: 0.0411 - accuracy: 0.5406 - val_loss: 1.1337 - val_accuracy: 0.5551 - lr: 2.0000e-04\n",
      "Epoch 15/50\n",
      "7192/7192 [==============================] - ETA: 0s - loss: 0.0410 - accuracy: 0.5437\n",
      "Epoch 15: saving model to 20230920_23-07_fer_vggface-resnet50_finetuned_E15-VLoss1.11.keras\n",
      "7192/7192 [==============================] - 402s 56ms/step - loss: 0.0410 - accuracy: 0.5437 - val_loss: 1.1077 - val_accuracy: 0.5671 - lr: 2.0000e-04\n",
      "Epoch 16/50\n",
      "7192/7192 [==============================] - ETA: 0s - loss: 0.0409 - accuracy: 0.5438\n",
      "Epoch 16: saving model to 20230920_23-07_fer_vggface-resnet50_finetuned_E16-VLoss1.09.keras\n",
      "7192/7192 [==============================] - 402s 56ms/step - loss: 0.0409 - accuracy: 0.5438 - val_loss: 1.0857 - val_accuracy: 0.5735 - lr: 2.0000e-04\n",
      "Epoch 17/50\n",
      "7192/7192 [==============================] - ETA: 0s - loss: 0.0406 - accuracy: 0.5419\n",
      "Epoch 17: saving model to 20230920_23-07_fer_vggface-resnet50_finetuned_E17-VLoss1.14.keras\n",
      "7192/7192 [==============================] - 403s 56ms/step - loss: 0.0406 - accuracy: 0.5419 - val_loss: 1.1378 - val_accuracy: 0.5544 - lr: 2.0000e-04\n",
      "Epoch 18/50\n",
      "7192/7192 [==============================] - ETA: 0s - loss: 0.0405 - accuracy: 0.5467\n",
      "Epoch 18: saving model to 20230920_23-07_fer_vggface-resnet50_finetuned_E18-VLoss1.12.keras\n",
      "7192/7192 [==============================] - 403s 56ms/step - loss: 0.0405 - accuracy: 0.5467 - val_loss: 1.1180 - val_accuracy: 0.5572 - lr: 2.0000e-04\n",
      "Epoch 19/50\n",
      "7191/7192 [============================>.] - ETA: 0s - loss: 0.0403 - accuracy: 0.5471\n",
      "Epoch 19: saving model to 20230920_23-07_fer_vggface-resnet50_finetuned_E19-VLoss1.09.keras\n",
      "7192/7192 [==============================] - 402s 56ms/step - loss: 0.0403 - accuracy: 0.5471 - val_loss: 1.0860 - val_accuracy: 0.5759 - lr: 2.0000e-04\n",
      "Epoch 20/50\n",
      "7192/7192 [==============================] - ETA: 0s - loss: 0.0402 - accuracy: 0.5466\n",
      "Epoch 20: saving model to 20230920_23-07_fer_vggface-resnet50_finetuned_E20-VLoss1.09.keras\n",
      "7192/7192 [==============================] - 403s 56ms/step - loss: 0.0402 - accuracy: 0.5466 - val_loss: 1.0917 - val_accuracy: 0.5724 - lr: 2.0000e-04\n",
      "Epoch 21/50\n",
      "7192/7192 [==============================] - ETA: 0s - loss: 0.0402 - accuracy: 0.5468\n",
      "Epoch 21: saving model to 20230920_23-07_fer_vggface-resnet50_finetuned_E21-VLoss1.10.keras\n",
      "\n",
      "Epoch 21: ReduceLROnPlateau reducing learning rate to 4.0000001899898055e-05.\n",
      "7192/7192 [==============================] - 402s 56ms/step - loss: 0.0402 - accuracy: 0.5468 - val_loss: 1.0962 - val_accuracy: 0.5730 - lr: 2.0000e-04\n",
      "Epoch 22/50\n",
      "7192/7192 [==============================] - ETA: 0s - loss: 0.0396 - accuracy: 0.5500\n",
      "Epoch 22: saving model to 20230920_23-07_fer_vggface-resnet50_finetuned_E22-VLoss1.08.keras\n",
      "7192/7192 [==============================] - 401s 56ms/step - loss: 0.0396 - accuracy: 0.5500 - val_loss: 1.0788 - val_accuracy: 0.5805 - lr: 4.0000e-05\n",
      "Epoch 23/50\n",
      "7192/7192 [==============================] - ETA: 0s - loss: 0.0396 - accuracy: 0.5520\n",
      "Epoch 23: saving model to 20230920_23-07_fer_vggface-resnet50_finetuned_E23-VLoss1.07.keras\n",
      "7192/7192 [==============================] - 396s 55ms/step - loss: 0.0396 - accuracy: 0.5520 - val_loss: 1.0675 - val_accuracy: 0.5856 - lr: 4.0000e-05\n"
     ]
    },
    {
     "name": "stdout",
     "output_type": "stream",
     "text": [
      "Epoch 24/50\n",
      "7192/7192 [==============================] - ETA: 0s - loss: 0.0395 - accuracy: 0.5531\n",
      "Epoch 24: saving model to 20230920_23-07_fer_vggface-resnet50_finetuned_E24-VLoss1.09.keras\n",
      "7192/7192 [==============================] - 380s 53ms/step - loss: 0.0395 - accuracy: 0.5531 - val_loss: 1.0857 - val_accuracy: 0.5783 - lr: 4.0000e-05\n",
      "Epoch 25/50\n",
      "7192/7192 [==============================] - ETA: 0s - loss: 0.0396 - accuracy: 0.5507\n",
      "Epoch 25: saving model to 20230920_23-07_fer_vggface-resnet50_finetuned_E25-VLoss1.06.keras\n",
      "7192/7192 [==============================] - 396s 55ms/step - loss: 0.0396 - accuracy: 0.5507 - val_loss: 1.0641 - val_accuracy: 0.5863 - lr: 4.0000e-05\n",
      "Epoch 26/50\n",
      "7191/7192 [============================>.] - ETA: 0s - loss: 0.0392 - accuracy: 0.5516\n",
      "Epoch 26: saving model to 20230920_23-07_fer_vggface-resnet50_finetuned_E26-VLoss1.07.keras\n",
      "7192/7192 [==============================] - 402s 56ms/step - loss: 0.0392 - accuracy: 0.5516 - val_loss: 1.0673 - val_accuracy: 0.5884 - lr: 4.0000e-05\n",
      "Epoch 27/50\n",
      "7192/7192 [==============================] - ETA: 0s - loss: 0.0393 - accuracy: 0.5533\n",
      "Epoch 27: saving model to 20230920_23-07_fer_vggface-resnet50_finetuned_E27-VLoss1.06.keras\n",
      "7192/7192 [==============================] - 402s 56ms/step - loss: 0.0393 - accuracy: 0.5533 - val_loss: 1.0557 - val_accuracy: 0.5945 - lr: 4.0000e-05\n",
      "Epoch 28/50\n",
      "7191/7192 [============================>.] - ETA: 0s - loss: 0.0395 - accuracy: 0.5531\n",
      "Epoch 28: saving model to 20230920_23-07_fer_vggface-resnet50_finetuned_E28-VLoss1.06.keras\n",
      "7192/7192 [==============================] - 402s 56ms/step - loss: 0.0395 - accuracy: 0.5531 - val_loss: 1.0573 - val_accuracy: 0.5947 - lr: 4.0000e-05\n",
      "Epoch 29/50\n",
      "7191/7192 [============================>.] - ETA: 0s - loss: 0.0392 - accuracy: 0.5535\n",
      "Epoch 29: saving model to 20230920_23-07_fer_vggface-resnet50_finetuned_E29-VLoss1.07.keras\n",
      "7192/7192 [==============================] - 403s 56ms/step - loss: 0.0392 - accuracy: 0.5535 - val_loss: 1.0674 - val_accuracy: 0.5891 - lr: 4.0000e-05\n",
      "Epoch 30/50\n",
      "7192/7192 [==============================] - ETA: 0s - loss: 0.0392 - accuracy: 0.5538\n",
      "Epoch 30: saving model to 20230920_23-07_fer_vggface-resnet50_finetuned_E30-VLoss1.06.keras\n",
      "7192/7192 [==============================] - 403s 56ms/step - loss: 0.0392 - accuracy: 0.5538 - val_loss: 1.0600 - val_accuracy: 0.5926 - lr: 4.0000e-05\n",
      "Epoch 31/50\n",
      "7191/7192 [============================>.] - ETA: 0s - loss: 0.0391 - accuracy: 0.5555\n",
      "Epoch 31: saving model to 20230920_23-07_fer_vggface-resnet50_finetuned_E31-VLoss1.07.keras\n",
      "7192/7192 [==============================] - 403s 56ms/step - loss: 0.0391 - accuracy: 0.5555 - val_loss: 1.0677 - val_accuracy: 0.5906 - lr: 4.0000e-05\n",
      "Epoch 32/50\n",
      "7192/7192 [==============================] - ETA: 0s - loss: 0.0392 - accuracy: 0.5537\n",
      "Epoch 32: saving model to 20230920_23-07_fer_vggface-resnet50_finetuned_E32-VLoss1.06.keras\n",
      "\n",
      "Epoch 32: ReduceLROnPlateau reducing learning rate to 8.000000525498762e-06.\n",
      "7192/7192 [==============================] - 403s 56ms/step - loss: 0.0392 - accuracy: 0.5537 - val_loss: 1.0613 - val_accuracy: 0.5901 - lr: 4.0000e-05\n",
      "Epoch 33/50\n",
      "7191/7192 [============================>.] - ETA: 0s - loss: 0.0392 - accuracy: 0.5521\n",
      "Epoch 33: saving model to 20230920_23-07_fer_vggface-resnet50_finetuned_E33-VLoss1.06.keras\n",
      "7192/7192 [==============================] - 403s 56ms/step - loss: 0.0392 - accuracy: 0.5521 - val_loss: 1.0554 - val_accuracy: 0.5938 - lr: 8.0000e-06\n",
      "Epoch 34/50\n",
      "7191/7192 [============================>.] - ETA: 0s - loss: 0.0390 - accuracy: 0.5567\n",
      "Epoch 34: saving model to 20230920_23-07_fer_vggface-resnet50_finetuned_E34-VLoss1.06.keras\n",
      "7192/7192 [==============================] - 402s 56ms/step - loss: 0.0390 - accuracy: 0.5567 - val_loss: 1.0571 - val_accuracy: 0.5948 - lr: 8.0000e-06\n",
      "Epoch 35/50\n",
      "7191/7192 [============================>.] - ETA: 0s - loss: 0.0389 - accuracy: 0.5565\n",
      "Epoch 35: saving model to 20230920_23-07_fer_vggface-resnet50_finetuned_E35-VLoss1.06.keras\n",
      "7192/7192 [==============================] - 395s 55ms/step - loss: 0.0389 - accuracy: 0.5565 - val_loss: 1.0556 - val_accuracy: 0.5957 - lr: 8.0000e-06\n",
      "Epoch 36/50\n",
      "7191/7192 [============================>.] - ETA: 0s - loss: 0.0390 - accuracy: 0.5550\n",
      "Epoch 36: saving model to 20230920_23-07_fer_vggface-resnet50_finetuned_E36-VLoss1.06.keras\n",
      "7192/7192 [==============================] - 374s 52ms/step - loss: 0.0390 - accuracy: 0.5549 - val_loss: 1.0576 - val_accuracy: 0.5942 - lr: 8.0000e-06\n",
      "Epoch 37/50\n",
      "7192/7192 [==============================] - ETA: 0s - loss: 0.0390 - accuracy: 0.5576\n",
      "Epoch 37: saving model to 20230920_23-07_fer_vggface-resnet50_finetuned_E37-VLoss1.06.keras\n",
      "7192/7192 [==============================] - 360s 50ms/step - loss: 0.0390 - accuracy: 0.5576 - val_loss: 1.0573 - val_accuracy: 0.5938 - lr: 8.0000e-06\n",
      "Epoch 38/50\n",
      "7192/7192 [==============================] - ETA: 0s - loss: 0.0390 - accuracy: 0.5555\n",
      "Epoch 38: saving model to 20230920_23-07_fer_vggface-resnet50_finetuned_E38-VLoss1.06.keras\n",
      "\n",
      "Epoch 38: ReduceLROnPlateau reducing learning rate to 1.6000001778593287e-06.\n",
      "7192/7192 [==============================] - 361s 50ms/step - loss: 0.0390 - accuracy: 0.5555 - val_loss: 1.0641 - val_accuracy: 0.5910 - lr: 8.0000e-06\n",
      "Epoch 39/50\n",
      "7192/7192 [==============================] - ETA: 0s - loss: 0.0391 - accuracy: 0.5550\n",
      "Epoch 39: saving model to 20230920_23-07_fer_vggface-resnet50_finetuned_E39-VLoss1.06.keras\n",
      "7192/7192 [==============================] - 361s 50ms/step - loss: 0.0391 - accuracy: 0.5550 - val_loss: 1.0631 - val_accuracy: 0.5910 - lr: 1.6000e-06\n",
      "Epoch 40/50\n",
      "7192/7192 [==============================] - ETA: 0s - loss: 0.0390 - accuracy: 0.5567\n",
      "Epoch 40: saving model to 20230920_23-07_fer_vggface-resnet50_finetuned_E40-VLoss1.07.keras\n",
      "7192/7192 [==============================] - 361s 50ms/step - loss: 0.0390 - accuracy: 0.5567 - val_loss: 1.0653 - val_accuracy: 0.5901 - lr: 1.6000e-06\n",
      "Epoch 41/50\n",
      "7192/7192 [==============================] - ETA: 0s - loss: 0.0391 - accuracy: 0.5546\n",
      "Epoch 41: saving model to 20230920_23-07_fer_vggface-resnet50_finetuned_E41-VLoss1.06.keras\n",
      "7192/7192 [==============================] - 361s 50ms/step - loss: 0.0391 - accuracy: 0.5546 - val_loss: 1.0608 - val_accuracy: 0.5908 - lr: 1.6000e-06\n",
      "Epoch 42/50\n",
      "7192/7192 [==============================] - ETA: 0s - loss: 0.0390 - accuracy: 0.5572\n",
      "Epoch 42: saving model to 20230920_23-07_fer_vggface-resnet50_finetuned_E42-VLoss1.07.keras\n",
      "7192/7192 [==============================] - 361s 50ms/step - loss: 0.0390 - accuracy: 0.5572 - val_loss: 1.0650 - val_accuracy: 0.5910 - lr: 1.6000e-06\n",
      "Epoch 43/50\n",
      "7192/7192 [==============================] - ETA: 0s - loss: 0.0390 - accuracy: 0.5555\n",
      "Epoch 43: saving model to 20230920_23-07_fer_vggface-resnet50_finetuned_E43-VLoss1.06.keras\n",
      "\n",
      "Epoch 43: ReduceLROnPlateau reducing learning rate to 3.200000264769187e-07.\n",
      "7192/7192 [==============================] - 361s 50ms/step - loss: 0.0390 - accuracy: 0.5555 - val_loss: 1.0638 - val_accuracy: 0.5921 - lr: 1.6000e-06\n",
      "Epoch 44/50\n",
      "7192/7192 [==============================] - ETA: 0s - loss: 0.0389 - accuracy: 0.5570\n",
      "Epoch 44: saving model to 20230920_23-07_fer_vggface-resnet50_finetuned_E44-VLoss1.06.keras\n",
      "7192/7192 [==============================] - 361s 50ms/step - loss: 0.0389 - accuracy: 0.5570 - val_loss: 1.0648 - val_accuracy: 0.5913 - lr: 3.2000e-07\n",
      "Epoch 45/50\n",
      "7192/7192 [==============================] - ETA: 0s - loss: 0.0389 - accuracy: 0.5571\n",
      "Epoch 45: saving model to 20230920_23-07_fer_vggface-resnet50_finetuned_E45-VLoss1.07.keras\n",
      "7192/7192 [==============================] - 361s 50ms/step - loss: 0.0389 - accuracy: 0.5571 - val_loss: 1.0667 - val_accuracy: 0.5916 - lr: 3.2000e-07\n",
      "Epoch 46/50\n",
      "7192/7192 [==============================] - ETA: 0s - loss: 0.0388 - accuracy: 0.5575\n",
      "Epoch 46: saving model to 20230920_23-07_fer_vggface-resnet50_finetuned_E46-VLoss1.06.keras\n",
      "7192/7192 [==============================] - 360s 50ms/step - loss: 0.0388 - accuracy: 0.5575 - val_loss: 1.0632 - val_accuracy: 0.5912 - lr: 3.2000e-07\n",
      "Epoch 47/50\n"
     ]
    },
    {
     "name": "stdout",
     "output_type": "stream",
     "text": [
      "7192/7192 [==============================] - ETA: 0s - loss: 0.0390 - accuracy: 0.5553\n",
      "Epoch 47: saving model to 20230920_23-07_fer_vggface-resnet50_finetuned_E47-VLoss1.06.keras\n",
      "7192/7192 [==============================] - 361s 50ms/step - loss: 0.0390 - accuracy: 0.5553 - val_loss: 1.0609 - val_accuracy: 0.5924 - lr: 3.2000e-07\n",
      "Epoch 48/50\n",
      "7192/7192 [==============================] - ETA: 0s - loss: 0.0390 - accuracy: 0.5570\n",
      "Epoch 48: saving model to 20230920_23-07_fer_vggface-resnet50_finetuned_E48-VLoss1.06.keras\n",
      "\n",
      "Epoch 48: ReduceLROnPlateau reducing learning rate to 6.400000529538374e-08.\n",
      "7192/7192 [==============================] - 360s 50ms/step - loss: 0.0390 - accuracy: 0.5570 - val_loss: 1.0625 - val_accuracy: 0.5909 - lr: 3.2000e-07\n",
      "Epoch 49/50\n",
      "7192/7192 [==============================] - ETA: 0s - loss: 0.0389 - accuracy: 0.5548\n",
      "Epoch 49: saving model to 20230920_23-07_fer_vggface-resnet50_finetuned_E49-VLoss1.06.keras\n",
      "7192/7192 [==============================] - 362s 50ms/step - loss: 0.0389 - accuracy: 0.5548 - val_loss: 1.0600 - val_accuracy: 0.5925 - lr: 6.4000e-08\n",
      "Epoch 50/50\n",
      "7192/7192 [==============================] - ETA: 0s - loss: 0.0390 - accuracy: 0.5562\n",
      "Epoch 50: saving model to 20230920_23-07_fer_vggface-resnet50_finetuned_E50-VLoss1.06.keras\n",
      "7192/7192 [==============================] - 360s 50ms/step - loss: 0.0390 - accuracy: 0.5562 - val_loss: 1.0635 - val_accuracy: 0.5910 - lr: 6.4000e-08\n"
     ]
    }
   ],
   "source": [
    "from tensorflow.keras import layers\n",
    "from keras_vggface.vggface import VGGFace\n",
    "\n",
    "train_img_dir = '/home/lndr/Development/FER/AffectNet_50percent_occluded/train_set'\n",
    "test_img_dir = '/home/lndr/Development/FER/AffectNet_50percent_occluded/val_set'\n",
    "\n",
    "# Define Data Augmentation Layer\n",
    "data_augmentation = keras.Sequential(\n",
    "    [\n",
    "        layers.RandomFlip(\"horizontal_and_vertical\"),\n",
    "        layers.RandomRotation(0.1),\n",
    "        layers.RandomBrightness(.2),\n",
    "        layers.RandomContrast(.2),\n",
    "        layers.RandomZoom(.3, fill_mode=\"constant\"),\n",
    "    ]\n",
    ")\n",
    "\n",
    "# Load Base Model\n",
    "vgg_model = VGGFace(model=\"resnet50\", include_top=False, input_shape=(224, 224, 3))\n",
    "vgg_model.trainable = True\n",
    "for layer in vgg_model.layers[:-33]: # starting with res5\n",
    "    layer.trainable = False\n",
    "    \n",
    "# Add Head Model (Finetune)\n",
    "inputs = keras.Input(shape=(224, 224, 3))\n",
    "x = data_augmentation(inputs)\n",
    "x = keras.applications.resnet.preprocess_input(x)\n",
    "x = vgg_model(x)\n",
    "x = layers.Flatten(name='flatten')(x)\n",
    "x = layers.Dense(1024, activation=\"relu\")(x)\n",
    "outputs = layers.Dense(8, activation='softmax', name='classifier', dtype=\"float32\")(x) # opt-out mixed precision for softmax layer\n",
    "model = keras.Model(inputs, outputs)\n",
    "\n",
    "\n",
    "#vgg_model.summary()\n",
    "model.compile(optimizer=tf.keras.optimizers.Adam(learning_rate=1e-3),\n",
    "              loss = \"sparse_categorical_crossentropy\",\n",
    "              metrics = [\"accuracy\"])\n",
    "\n",
    "# Load dataset\n",
    "(train_dataset, val_dataset), test_dataset = load_data(train_img_dir, test_img_dir)\n",
    "\n",
    "from datetime import datetime\n",
    "now = datetime.today()\n",
    "current_time = now.strftime(\"%Y%m%d_%H-%M\")\n",
    "model_name = f\"{current_time}_fer_vggface-resnet50_finetuned_\"\n",
    "\n",
    "callbacks = [\n",
    "    keras.callbacks.ModelCheckpoint(\n",
    "        filepath=model_name + 'E{epoch:02d}-VLoss{val_loss:.2f}.keras',\n",
    "        save_best_only=False,\n",
    "        save_freq='epoch',\n",
    "        monitor=\"val_loss\",\n",
    "        verbose=1),\n",
    "    keras.callbacks.EarlyStopping(\n",
    "        monitor=\"val_loss\", \n",
    "        patience=20),\n",
    "    keras.callbacks.ReduceLROnPlateau(monitor=\"val_loss\", \n",
    "                                      factor=0.2, \n",
    "                                      patience=5, \n",
    "                                      verbose=1, \n",
    "                                      min_lr=1e-8)\n",
    "]\n",
    "\n",
    "# fit model\n",
    "print(f'Saving model as: {model_name}')\n",
    "history = model.fit(x=train_dataset, \n",
    "                    epochs=50, \n",
    "                    validation_data=val_dataset,\n",
    "                    class_weight=class_weights_dict,\n",
    "                    callbacks=callbacks)"
   ]
  },
  {
   "cell_type": "code",
   "execution_count": 7,
   "id": "d98e9632",
   "metadata": {},
   "outputs": [
    {
     "name": "stdout",
     "output_type": "stream",
     "text": [
      "125/125 [==============================] - 4s 33ms/step - loss: 1.3575 - accuracy: 0.5321\n",
      "Test accuracy: 0.532\n"
     ]
    }
   ],
   "source": [
    "model = history.model\n",
    "test_loss, test_acc = model.evaluate(test_dataset)\n",
    "print(f\"Test accuracy: {test_acc:.3f}\")"
   ]
  },
  {
   "cell_type": "code",
   "execution_count": 8,
   "id": "6ffa6567",
   "metadata": {},
   "outputs": [
    {
     "name": "stdout",
     "output_type": "stream",
     "text": [
      "Found 287651 files belonging to 8 classes.\n",
      "Using 230121 files for training.\n",
      "Using 57530 files for validation.\n",
      "Found 3999 files belonging to 8 classes.\n",
      "125/125 [==============================] - 4s 30ms/step - loss: 1.4359 - accuracy: 0.4804\n",
      "Test accuracy: 0.480\n"
     ]
    }
   ],
   "source": [
    "train_img_dir = '/home/lndr/Development/FER/AffectNet_Occluded/train_set'\n",
    "test_img_dir = '/home/lndr/Development/FER/AffectNet_Occluded/val_set'\n",
    "\n",
    "(train_dataset, val_dataset), test_dataset = load_data(train_img_dir, test_img_dir)\n",
    "\n",
    "model = history.model\n",
    "test_loss, test_acc = model.evaluate(test_dataset)\n",
    "print(f\"Test accuracy: {test_acc:.3f}\")"
   ]
  },
  {
   "cell_type": "code",
   "execution_count": 9,
   "id": "8ef21a53",
   "metadata": {},
   "outputs": [
    {
     "name": "stdout",
     "output_type": "stream",
     "text": [
      "Found 287651 files belonging to 8 classes.\n",
      "Using 230121 files for training.\n",
      "Using 57530 files for validation.\n",
      "Found 3999 files belonging to 8 classes.\n",
      "125/125 [==============================] - 4s 30ms/step - loss: 1.2688 - accuracy: 0.5734\n",
      "Test accuracy: 0.573\n"
     ]
    }
   ],
   "source": [
    "train_img_dir = '/home/lndr/Development/FER/AffectNet_sorted/train_set'\n",
    "test_img_dir = '/home/lndr/Development/FER/AffectNet_sorted/val_set'\n",
    "\n",
    "(train_dataset, val_dataset), test_dataset = load_data(train_img_dir, test_img_dir)\n",
    "\n",
    "model = history.model\n",
    "test_loss, test_acc = model.evaluate(test_dataset)\n",
    "print(f\"Test accuracy: {test_acc:.3f}\")"
   ]
  },
  {
   "cell_type": "code",
   "execution_count": null,
   "id": "31ba007b",
   "metadata": {},
   "outputs": [],
   "source": []
  }
 ],
 "metadata": {
  "kernelspec": {
   "display_name": "Python 3",
   "language": "python",
   "name": "python3"
  },
  "language_info": {
   "codemirror_mode": {
    "name": "ipython",
    "version": 3
   },
   "file_extension": ".py",
   "mimetype": "text/x-python",
   "name": "python",
   "nbconvert_exporter": "python",
   "pygments_lexer": "ipython3",
   "version": "3.9.16"
  }
 },
 "nbformat": 4,
 "nbformat_minor": 5
}
