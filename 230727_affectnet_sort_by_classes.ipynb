{
 "cells": [
  {
   "cell_type": "code",
   "execution_count": 5,
   "id": "37a322b8",
   "metadata": {},
   "outputs": [],
   "source": [
    "import os\n",
    "import shutil\n",
    "import numpy as np\n",
    "\n",
    "image_dir = '/home/lndr/Development/FER/AffectNet_Occluded/val_set/images'\n",
    "annotation_dir = '/home/lndr/Development/FER/AffectNet/val_set/annotations'\n",
    "\n",
    "images = [file for file in os.listdir(image_dir) if file.endswith('.jpg')]\n",
    "\n",
    "for image in images:\n",
    "    image_name, image_ext = os.path.splitext(image)\n",
    "    image_num, _ = image_name.split('_')\n",
    "    npy_file = image_num + '_exp.npy'\n",
    "    npy_path = os.path.join(annotation_dir, npy_file)\n",
    "    \n",
    "    if not os.path.isfile(npy_path):\n",
    "        continue\n",
    "        \n",
    "    class_val = np.load(npy_path)\n",
    "    \n",
    "    subfolder_dir = os.path.join(image_dir, str(class_val))\n",
    "    if not os.path.exists(subfolder_dir):\n",
    "        os.makedirs(subfolder_dir)\n",
    "    \n",
    "    src = os.path.join(image_dir, image)\n",
    "    dest = os.path.join(subfolder_dir, image)\n",
    "    shutil.move(src, dest)"
   ]
  }
 ],
 "metadata": {
  "kernelspec": {
   "display_name": "Python 3",
   "language": "python",
   "name": "python3"
  },
  "language_info": {
   "codemirror_mode": {
    "name": "ipython",
    "version": 3
   },
   "file_extension": ".py",
   "mimetype": "text/x-python",
   "name": "python",
   "nbconvert_exporter": "python",
   "pygments_lexer": "ipython3",
   "version": "3.9.16"
  }
 },
 "nbformat": 4,
 "nbformat_minor": 5
}
