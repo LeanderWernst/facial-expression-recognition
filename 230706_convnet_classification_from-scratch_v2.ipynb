{
 "cells": [
  {
   "cell_type": "code",
   "execution_count": 1,
   "id": "f07e1e23",
   "metadata": {},
   "outputs": [
    {
     "data": {
      "text/plain": [
       "[PhysicalDevice(name='/physical_device:GPU:0', device_type='GPU')]"
      ]
     },
     "execution_count": 1,
     "metadata": {},
     "output_type": "execute_result"
    }
   ],
   "source": [
    "import tensorflow as tf\n",
    "tf.config.list_physical_devices('GPU')"
   ]
  },
  {
   "cell_type": "code",
   "execution_count": 2,
   "id": "cf3b8fd1",
   "metadata": {},
   "outputs": [
    {
     "name": "stdout",
     "output_type": "stream",
     "text": [
      "Model: \"model\"\n",
      "_________________________________________________________________\n",
      " Layer (type)                Output Shape              Param #   \n",
      "=================================================================\n",
      " input_1 (InputLayer)        [(None, 224, 224, 3)]     0         \n",
      "                                                                 \n",
      " rescaling (Rescaling)       (None, 224, 224, 3)       0         \n",
      "                                                                 \n",
      " conv2d (Conv2D)             (None, 222, 222, 64)      1792      \n",
      "                                                                 \n",
      " max_pooling2d (MaxPooling2D  (None, 111, 111, 64)     0         \n",
      " )                                                               \n",
      "                                                                 \n",
      " conv2d_1 (Conv2D)           (None, 109, 109, 128)     73856     \n",
      "                                                                 \n",
      " max_pooling2d_1 (MaxPooling  (None, 54, 54, 128)      0         \n",
      " 2D)                                                             \n",
      "                                                                 \n",
      " conv2d_2 (Conv2D)           (None, 52, 52, 256)       295168    \n",
      "                                                                 \n",
      " conv2d_3 (Conv2D)           (None, 50, 50, 256)       590080    \n",
      "                                                                 \n",
      " conv2d_4 (Conv2D)           (None, 48, 48, 256)       590080    \n",
      "                                                                 \n",
      " max_pooling2d_2 (MaxPooling  (None, 24, 24, 256)      0         \n",
      " 2D)                                                             \n",
      "                                                                 \n",
      " conv2d_5 (Conv2D)           (None, 22, 22, 512)       1180160   \n",
      "                                                                 \n",
      " conv2d_6 (Conv2D)           (None, 20, 20, 512)       2359808   \n",
      "                                                                 \n",
      " conv2d_7 (Conv2D)           (None, 18, 18, 512)       2359808   \n",
      "                                                                 \n",
      " flatten (Flatten)           (None, 165888)            0         \n",
      "                                                                 \n",
      " dense (Dense)               (None, 8)                 1327112   \n",
      "                                                                 \n",
      "=================================================================\n",
      "Total params: 8,777,864\n",
      "Trainable params: 8,777,864\n",
      "Non-trainable params: 0\n",
      "_________________________________________________________________\n"
     ]
    }
   ],
   "source": [
    "from tensorflow import keras\n",
    "from tensorflow.keras import layers\n",
    "\n",
    "data_augmentation = keras.Sequential(\n",
    "    [\n",
    "        layers.RandomFlip(\"horizontal\"),\n",
    "        layers.RandomRotation(0.1),\n",
    "        layers.RandomZoom(0.2),\n",
    "    ]\n",
    ")\n",
    "\n",
    "inputs = keras.Input(shape=(224, 224, 3)) # width, height, channels\n",
    "# x = data_augmentation(inputs)\n",
    "x = layers.Rescaling(1./255)(inputs)#(x)\n",
    "x = layers.Conv2D(filters=64, kernel_size=3, activation=\"relu\")(x)\n",
    "x = layers.MaxPooling2D(pool_size=2)(x)\n",
    "x = layers.Conv2D(filters=128, kernel_size=3, activation=\"relu\")(x)\n",
    "x = layers.MaxPooling2D(pool_size=2)(x)\n",
    "x = layers.Conv2D(filters=256, kernel_size=3, activation=\"relu\")(x)\n",
    "x = layers.Conv2D(filters=256, kernel_size=3, activation=\"relu\")(x)\n",
    "x = layers.Conv2D(filters=256, kernel_size=3, activation=\"relu\")(x)\n",
    "x = layers.MaxPooling2D(pool_size=2)(x)\n",
    "x = layers.Conv2D(filters=512, kernel_size=3, activation=\"relu\")(x)\n",
    "x = layers.Conv2D(filters=512, kernel_size=3, activation=\"relu\")(x)\n",
    "x = layers.Conv2D(filters=512, kernel_size=3, activation=\"relu\")(x)\n",
    "x = layers.Flatten()(x)\n",
    "outputs = layers.Dense(8, activation=\"softmax\")(x) # 8 classes in AffectNet\n",
    "model = keras.Model(inputs=inputs, outputs=outputs)\n",
    "\n",
    "model.compile(optimizer=tf.keras.optimizers.Adam(1e-6),\n",
    "              loss = \"sparse_categorical_crossentropy\",\n",
    "              metrics = [\"accuracy\"])\n",
    "\n",
    "model.summary()"
   ]
  },
  {
   "cell_type": "code",
   "execution_count": 3,
   "id": "7e26fe19",
   "metadata": {},
   "outputs": [],
   "source": [
    "train_img_dir = '/home/lndr/Development/FER/AffectNet_sorted/train_set'\n",
    "test_img_dir = '/home/lndr/Development/FER/AffectNet_sorted/val_set'"
   ]
  },
  {
   "cell_type": "code",
   "execution_count": 10,
   "id": "6dc63964",
   "metadata": {},
   "outputs": [],
   "source": [
    "import random\n",
    "\n",
    "def load_data(train_img_dir, test_img_dir):\n",
    "\n",
    "    train_dataset = tf.keras.utils.image_dataset_from_directory(\n",
    "        train_img_dir,\n",
    "        labels='inferred',\n",
    "        label_mode='int',\n",
    "        color_mode='rgb',\n",
    "        batch_size=64,\n",
    "        image_size=(224, 224),\n",
    "        shuffle=True,\n",
    "        seed=random.randint(0,1000),\n",
    "        validation_split=0.2,\n",
    "        subset='both'\n",
    "    )\n",
    "\n",
    "    test_dataset = tf.keras.utils.image_dataset_from_directory(\n",
    "        test_img_dir,\n",
    "        labels='inferred',\n",
    "        label_mode='int',\n",
    "        color_mode='rgb',\n",
    "        batch_size=64,\n",
    "        image_size=(224, 224),\n",
    "        shuffle=True,\n",
    "        seed=random.randint(0,1000),\n",
    "        validation_split=None\n",
    "    )\n",
    "\n",
    "    return train_dataset, test_dataset"
   ]
  },
  {
   "cell_type": "code",
   "execution_count": 11,
   "id": "869786be",
   "metadata": {},
   "outputs": [
    {
     "name": "stdout",
     "output_type": "stream",
     "text": [
      "Found 287651 files belonging to 8 classes.\n",
      "Using 230121 files for training.\n",
      "Using 57530 files for validation.\n",
      "Found 3999 files belonging to 8 classes.\n"
     ]
    }
   ],
   "source": [
    "(train_dataset, val_dataset), test_dataset = load_data(train_img_dir, test_img_dir)"
   ]
  },
  {
   "cell_type": "code",
   "execution_count": 12,
   "id": "dd9f91b3",
   "metadata": {
    "scrolled": false
   },
   "outputs": [
    {
     "name": "stdout",
     "output_type": "stream",
     "text": [
      "Saving model as: 20230706_fer_convnet_scratch.keras\n",
      "Epoch 1/50\n",
      "3596/3596 [==============================] - 793s 218ms/step - loss: 1.4248 - accuracy: 0.4910 - val_loss: 1.2604 - val_accuracy: 0.5650\n",
      "Epoch 2/50\n",
      "3596/3596 [==============================] - 776s 216ms/step - loss: 1.1903 - accuracy: 0.5908 - val_loss: 1.1536 - val_accuracy: 0.6050\n",
      "Epoch 3/50\n",
      "3596/3596 [==============================] - 773s 215ms/step - loss: 1.1241 - accuracy: 0.6148 - val_loss: 1.1141 - val_accuracy: 0.6192\n",
      "Epoch 4/50\n",
      "3596/3596 [==============================] - 768s 213ms/step - loss: 1.0919 - accuracy: 0.6247 - val_loss: 1.0860 - val_accuracy: 0.6263\n",
      "Epoch 5/50\n",
      "3596/3596 [==============================] - 777s 216ms/step - loss: 1.0677 - accuracy: 0.6328 - val_loss: 1.0650 - val_accuracy: 0.6327\n",
      "Epoch 6/50\n",
      "3596/3596 [==============================] - 792s 220ms/step - loss: 1.0476 - accuracy: 0.6393 - val_loss: 1.0470 - val_accuracy: 0.6387\n",
      "Epoch 7/50\n",
      "3596/3596 [==============================] - 779s 217ms/step - loss: 1.0311 - accuracy: 0.6447 - val_loss: 1.0329 - val_accuracy: 0.6433\n",
      "Epoch 8/50\n",
      "3596/3596 [==============================] - 769s 214ms/step - loss: 1.0161 - accuracy: 0.6492 - val_loss: 1.0187 - val_accuracy: 0.6481\n",
      "Epoch 9/50\n",
      "3596/3596 [==============================] - 767s 213ms/step - loss: 1.0023 - accuracy: 0.6540 - val_loss: 1.0053 - val_accuracy: 0.6529\n",
      "Epoch 10/50\n",
      "3596/3596 [==============================] - 766s 213ms/step - loss: 0.9899 - accuracy: 0.6575 - val_loss: 0.9945 - val_accuracy: 0.6567\n",
      "Epoch 11/50\n",
      "3596/3596 [==============================] - 768s 214ms/step - loss: 0.9776 - accuracy: 0.6619 - val_loss: 0.9833 - val_accuracy: 0.6599\n",
      "Epoch 12/50\n",
      "3596/3596 [==============================] - 767s 213ms/step - loss: 0.9658 - accuracy: 0.6661 - val_loss: 0.9729 - val_accuracy: 0.6641\n",
      "Epoch 13/50\n",
      "3596/3596 [==============================] - 765s 213ms/step - loss: 0.9547 - accuracy: 0.6700 - val_loss: 0.9623 - val_accuracy: 0.6680\n",
      "Epoch 14/50\n",
      "3596/3596 [==============================] - 768s 214ms/step - loss: 0.9442 - accuracy: 0.6733 - val_loss: 0.9526 - val_accuracy: 0.6712\n",
      "Epoch 15/50\n",
      "3596/3596 [==============================] - 768s 214ms/step - loss: 0.9345 - accuracy: 0.6762 - val_loss: 0.9454 - val_accuracy: 0.6745\n",
      "Epoch 16/50\n",
      "3596/3596 [==============================] - 769s 214ms/step - loss: 0.9251 - accuracy: 0.6800 - val_loss: 0.9370 - val_accuracy: 0.6770\n",
      "Epoch 17/50\n",
      "3596/3596 [==============================] - 769s 214ms/step - loss: 0.9167 - accuracy: 0.6831 - val_loss: 0.9306 - val_accuracy: 0.6792\n",
      "Epoch 18/50\n",
      "3596/3596 [==============================] - 768s 214ms/step - loss: 0.9086 - accuracy: 0.6858 - val_loss: 0.9252 - val_accuracy: 0.6808\n",
      "Epoch 19/50\n",
      "3596/3596 [==============================] - 744s 207ms/step - loss: 0.9010 - accuracy: 0.6883 - val_loss: 0.9181 - val_accuracy: 0.6839\n",
      "Epoch 20/50\n",
      "3596/3596 [==============================] - 737s 205ms/step - loss: 0.8937 - accuracy: 0.6901 - val_loss: 0.9155 - val_accuracy: 0.6850\n",
      "Epoch 21/50\n",
      "3596/3596 [==============================] - 741s 206ms/step - loss: 0.8871 - accuracy: 0.6930 - val_loss: 0.9071 - val_accuracy: 0.6882\n",
      "Epoch 22/50\n",
      "3596/3596 [==============================] - 792s 220ms/step - loss: 0.8804 - accuracy: 0.6948 - val_loss: 0.9027 - val_accuracy: 0.6906\n",
      "Epoch 23/50\n",
      "3596/3596 [==============================] - 786s 218ms/step - loss: 0.8746 - accuracy: 0.6969 - val_loss: 0.8971 - val_accuracy: 0.6918\n",
      "Epoch 24/50\n",
      "3596/3596 [==============================] - 832s 231ms/step - loss: 0.8686 - accuracy: 0.6990 - val_loss: 0.8946 - val_accuracy: 0.6934\n",
      "Epoch 25/50\n",
      "3596/3596 [==============================] - 821s 228ms/step - loss: 0.8629 - accuracy: 0.7013 - val_loss: 0.8916 - val_accuracy: 0.6949\n",
      "Epoch 26/50\n",
      "3596/3596 [==============================] - 818s 227ms/step - loss: 0.8574 - accuracy: 0.7026 - val_loss: 0.8885 - val_accuracy: 0.6937\n",
      "Epoch 27/50\n",
      "3596/3596 [==============================] - 815s 227ms/step - loss: 0.8521 - accuracy: 0.7045 - val_loss: 0.8842 - val_accuracy: 0.6954\n",
      "Epoch 28/50\n",
      "3596/3596 [==============================] - 810s 225ms/step - loss: 0.8471 - accuracy: 0.7059 - val_loss: 0.8790 - val_accuracy: 0.6972\n",
      "Epoch 29/50\n",
      "3596/3596 [==============================] - 833s 232ms/step - loss: 0.8420 - accuracy: 0.7073 - val_loss: 0.8763 - val_accuracy: 0.6976\n",
      "Epoch 30/50\n",
      "3596/3596 [==============================] - 838s 233ms/step - loss: 0.8373 - accuracy: 0.7092 - val_loss: 0.8741 - val_accuracy: 0.6987\n",
      "Epoch 31/50\n",
      "3596/3596 [==============================] - 829s 230ms/step - loss: 0.8324 - accuracy: 0.7110 - val_loss: 0.8712 - val_accuracy: 0.6995\n",
      "Epoch 32/50\n",
      "3596/3596 [==============================] - 820s 228ms/step - loss: 0.8277 - accuracy: 0.7129 - val_loss: 0.8664 - val_accuracy: 0.7019\n",
      "Epoch 33/50\n",
      "3596/3596 [==============================] - 823s 229ms/step - loss: 0.8234 - accuracy: 0.7144 - val_loss: 0.8636 - val_accuracy: 0.7023\n",
      "Epoch 34/50\n",
      "3596/3596 [==============================] - 834s 232ms/step - loss: 0.8186 - accuracy: 0.7156 - val_loss: 0.8627 - val_accuracy: 0.7019\n",
      "Epoch 35/50\n",
      "3596/3596 [==============================] - 823s 229ms/step - loss: 0.8148 - accuracy: 0.7167 - val_loss: 0.8609 - val_accuracy: 0.7027\n",
      "Epoch 36/50\n",
      "3596/3596 [==============================] - 794s 221ms/step - loss: 0.8100 - accuracy: 0.7181 - val_loss: 0.8586 - val_accuracy: 0.7043\n",
      "Epoch 37/50\n",
      "3596/3596 [==============================] - 787s 219ms/step - loss: 0.8058 - accuracy: 0.7196 - val_loss: 0.8563 - val_accuracy: 0.7046\n",
      "Epoch 38/50\n",
      "3596/3596 [==============================] - 784s 218ms/step - loss: 0.8016 - accuracy: 0.7213 - val_loss: 0.8570 - val_accuracy: 0.7039\n",
      "Epoch 39/50\n",
      "3596/3596 [==============================] - 774s 215ms/step - loss: 0.7974 - accuracy: 0.7223 - val_loss: 0.8516 - val_accuracy: 0.7070\n",
      "Epoch 40/50\n",
      "3596/3596 [==============================] - 772s 215ms/step - loss: 0.7937 - accuracy: 0.7235 - val_loss: 0.8526 - val_accuracy: 0.7062\n",
      "Epoch 41/50\n",
      "3596/3596 [==============================] - 779s 217ms/step - loss: 0.7896 - accuracy: 0.7251 - val_loss: 0.8507 - val_accuracy: 0.7064\n",
      "Epoch 42/50\n",
      "3596/3596 [==============================] - 744s 207ms/step - loss: 0.7853 - accuracy: 0.7266 - val_loss: 0.8479 - val_accuracy: 0.7070\n",
      "Epoch 43/50\n",
      "3596/3596 [==============================] - 735s 205ms/step - loss: 0.7818 - accuracy: 0.7278 - val_loss: 0.8469 - val_accuracy: 0.7084\n",
      "Epoch 44/50\n",
      "3596/3596 [==============================] - 734s 204ms/step - loss: 0.7777 - accuracy: 0.7289 - val_loss: 0.8451 - val_accuracy: 0.7082\n",
      "Epoch 45/50\n",
      "3596/3596 [==============================] - 737s 205ms/step - loss: 0.7744 - accuracy: 0.7298 - val_loss: 0.8471 - val_accuracy: 0.7082\n",
      "Epoch 46/50\n",
      "3596/3596 [==============================] - 736s 205ms/step - loss: 0.7704 - accuracy: 0.7314 - val_loss: 0.8431 - val_accuracy: 0.7093\n",
      "Epoch 47/50\n",
      "3596/3596 [==============================] - 734s 204ms/step - loss: 0.7666 - accuracy: 0.7325 - val_loss: 0.8432 - val_accuracy: 0.7096\n",
      "Epoch 48/50\n",
      "3596/3596 [==============================] - 737s 205ms/step - loss: 0.7629 - accuracy: 0.7335 - val_loss: 0.8422 - val_accuracy: 0.7096\n",
      "Epoch 49/50\n",
      "3596/3596 [==============================] - 736s 205ms/step - loss: 0.7591 - accuracy: 0.7351 - val_loss: 0.8425 - val_accuracy: 0.7082\n",
      "Epoch 50/50\n",
      "3596/3596 [==============================] - 735s 204ms/step - loss: 0.7556 - accuracy: 0.7358 - val_loss: 0.8399 - val_accuracy: 0.7110\n"
     ]
    }
   ],
   "source": [
    "from datetime import date\n",
    "today = date.today()\n",
    "date = today.strftime(\"%Y%m%d\")\n",
    "\n",
    "callbacks = [\n",
    "    keras.callbacks.ModelCheckpoint(\n",
    "        filepath=f\"{date}_fer_convnet_scratch.keras\",\n",
    "        save_best_only=True,\n",
    "        monitor=\"val_loss\"),\n",
    "    keras.callbacks.EarlyStopping(\n",
    "        monitor=\"val_loss\", \n",
    "        patience=15)\n",
    "]\n",
    "\n",
    "print(f'Saving model as: {date}_fer_convnet_scratch.keras')\n",
    "history = model.fit(x=train_dataset, epochs=50, validation_data=val_dataset, callbacks=callbacks)"
   ]
  },
  {
   "cell_type": "code",
   "execution_count": 13,
   "id": "16fbd631",
   "metadata": {},
   "outputs": [
    {
     "data": {
      "image/png": "[encoded data removed]",
      "text/plain": [
       "<Figure size 432x288 with 1 Axes>"
      ]
     },
     "metadata": {
      "needs_background": "light"
     },
     "output_type": "display_data"
    },
    {
     "data": {
      "image/png": "[encoded data removed]",
      "text/plain": [
       "<Figure size 432x288 with 1 Axes>"
      ]
     },
     "metadata": {
      "needs_background": "light"
     },
     "output_type": "display_data"
    }
   ],
   "source": [
    "import matplotlib.pyplot as plt\n",
    "accuracy = history.history[\"accuracy\"]\n",
    "val_accuracy = history.history[\"val_accuracy\"]\n",
    "loss = history.history[\"loss\"]\n",
    "val_loss = history.history[\"val_loss\"]\n",
    "epochs = range(1, len(accuracy) + 1)\n",
    "\n",
    "plt.plot(epochs, accuracy, \"bo\", label=\"Training accuracy\")\n",
    "plt.plot(epochs, val_accuracy, \"b\", label=\"Validation accuracy\")\n",
    "plt.title(\"Training and validation accuracy\")\n",
    "plt.legend()\n",
    "plt.figure()\n",
    "\n",
    "plt.plot(epochs, loss, \"bo\", label=\"Training loss\")\n",
    "plt.plot(epochs, val_loss, \"b\", label=\"Validation loss\")\n",
    "plt.title(\"Training and validation loss\")\n",
    "plt.legend()\n",
    "plt.show()"
   ]
  },
  {
   "cell_type": "code",
   "execution_count": 14,
   "id": "68893d43",
   "metadata": {},
   "outputs": [
    {
     "name": "stdout",
     "output_type": "stream",
     "text": [
      "63/63 [==============================] - 6s 88ms/step - loss: 1.9614 - accuracy: 0.3803\n",
      "Test accuracy: 0.380\n"
     ]
    }
   ],
   "source": [
    "model = keras.models.load_model('20230706_fer_convnet_scratch.keras')\n",
    "test_loss, test_acc = model.evaluate(test_dataset)\n",
    "print(f\"Test accuracy: {test_acc:.3f}\")"
   ]
  },
  {
   "cell_type": "code",
   "execution_count": null,
   "id": "9aad069c",
   "metadata": {},
   "outputs": [],
   "source": []
  }
 ],
 "metadata": {
  "kernelspec": {
   "display_name": "Python 3",
   "language": "python",
   "name": "python3"
  },
  "language_info": {
   "codemirror_mode": {
    "name": "ipython",
    "version": 3
   },
   "file_extension": ".py",
   "mimetype": "text/x-python",
   "name": "python",
   "nbconvert_exporter": "python",
   "pygments_lexer": "ipython3",
   "version": "3.9.16"
  }
 },
 "nbformat": 4,
 "nbformat_minor": 5
}
