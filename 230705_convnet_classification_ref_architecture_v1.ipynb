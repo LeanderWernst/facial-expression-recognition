{
 "cells": [
  {
   "cell_type": "code",
   "execution_count": 1,
   "id": "8342aa05",
   "metadata": {},
   "outputs": [
    {
     "data": {
      "text/plain": [
       "[PhysicalDevice(name='/physical_device:GPU:0', device_type='GPU')]"
      ]
     },
     "execution_count": 1,
     "metadata": {},
     "output_type": "execute_result"
    }
   ],
   "source": [
    "import tensorflow as tf\n",
    "tf.config.list_physical_devices('GPU')"
   ]
  },
  {
   "cell_type": "code",
   "execution_count": 2,
   "id": "a3391419",
   "metadata": {},
   "outputs": [
    {
     "name": "stdout",
     "output_type": "stream",
     "text": [
      "Model: \"vgg16\"\n",
      "_________________________________________________________________\n",
      " Layer (type)                Output Shape              Param #   \n",
      "=================================================================\n",
      " input_1 (InputLayer)        [(None, 224, 224, 3)]     0         \n",
      "                                                                 \n",
      " block1_conv1 (Conv2D)       (None, 224, 224, 64)      1792      \n",
      "                                                                 \n",
      " block1_conv2 (Conv2D)       (None, 224, 224, 64)      36928     \n",
      "                                                                 \n",
      " block1_pool (MaxPooling2D)  (None, 112, 112, 64)      0         \n",
      "                                                                 \n",
      " block2_conv1 (Conv2D)       (None, 112, 112, 128)     73856     \n",
      "                                                                 \n",
      " block2_conv2 (Conv2D)       (None, 112, 112, 128)     147584    \n",
      "                                                                 \n",
      " block2_pool (MaxPooling2D)  (None, 56, 56, 128)       0         \n",
      "                                                                 \n",
      " block3_conv1 (Conv2D)       (None, 56, 56, 256)       295168    \n",
      "                                                                 \n",
      " block3_conv2 (Conv2D)       (None, 56, 56, 256)       590080    \n",
      "                                                                 \n",
      " block3_conv3 (Conv2D)       (None, 56, 56, 256)       590080    \n",
      "                                                                 \n",
      " block3_pool (MaxPooling2D)  (None, 28, 28, 256)       0         \n",
      "                                                                 \n",
      " block4_conv1 (Conv2D)       (None, 28, 28, 512)       1180160   \n",
      "                                                                 \n",
      " block4_conv2 (Conv2D)       (None, 28, 28, 512)       2359808   \n",
      "                                                                 \n",
      " block4_conv3 (Conv2D)       (None, 28, 28, 512)       2359808   \n",
      "                                                                 \n",
      " block4_pool (MaxPooling2D)  (None, 14, 14, 512)       0         \n",
      "                                                                 \n",
      " block5_conv1 (Conv2D)       (None, 14, 14, 512)       2359808   \n",
      "                                                                 \n",
      " block5_conv2 (Conv2D)       (None, 14, 14, 512)       2359808   \n",
      "                                                                 \n",
      " block5_conv3 (Conv2D)       (None, 14, 14, 512)       2359808   \n",
      "                                                                 \n",
      " block5_pool (MaxPooling2D)  (None, 7, 7, 512)         0         \n",
      "                                                                 \n",
      "=================================================================\n",
      "Total params: 14,714,688\n",
      "Trainable params: 7,079,424\n",
      "Non-trainable params: 7,635,264\n",
      "_________________________________________________________________\n"
     ]
    }
   ],
   "source": [
    "from tensorflow import keras\n",
    "from tensorflow.keras import layers\n",
    "\n",
    "conv_base = keras.applications.vgg16.VGG16(weights=\"imagenet\", include_top=False, input_shape=(224, 224, 3))\n",
    "conv_base.trainable = True\n",
    "for layer in conv_base.layers[:-4]: # freeze all layers except last 4\n",
    "    layer.trainable = False\n",
    "conv_base.summary();"
   ]
  },
  {
   "cell_type": "code",
   "execution_count": 11,
   "id": "d2ccd7b5",
   "metadata": {},
   "outputs": [],
   "source": [
    "data_augmentation = keras.Sequential(\n",
    "    [\n",
    "        layers.RandomFlip(\"horizontal\"),\n",
    "        layers.RandomRotation(0.1),\n",
    "        layers.RandomZoom(0.2),\n",
    "    ]\n",
    ")\n",
    "\n",
    "inputs = keras.Input(shape=(224, 224, 3))\n",
    "#x = data_augmentation(inputs)\n",
    "x = keras.applications.vgg16.preprocess_input(inputs)#(x)\n",
    "x = conv_base(x)\n",
    "x = layers.Flatten()(x)\n",
    "x = layers.Dense(256)(x)\n",
    "x = layers.Dropout(0.5)(x)\n",
    "outputs = layers.Dense(8, activation=\"sigmoid\")(x)\n",
    "model = keras.Model(inputs, outputs)\n",
    "\n",
    "model.compile(optimizer=tf.keras.optimizers.Adam(1e-6),\n",
    "              loss = \"sparse_categorical_crossentropy\",\n",
    "              metrics = [\"accuracy\"])"
   ]
  },
  {
   "cell_type": "code",
   "execution_count": 12,
   "id": "fa0652f3",
   "metadata": {},
   "outputs": [],
   "source": [
    "train_img_dir = '/home/lndr/Development/FER/AffectNet_sorted/train_set'\n",
    "test_img_dir = '/home/lndr/Development/FER/AffectNet_sorted/val_set'"
   ]
  },
  {
   "cell_type": "code",
   "execution_count": 13,
   "id": "cd88c0cf",
   "metadata": {},
   "outputs": [],
   "source": [
    "import random\n",
    "\n",
    "def load_data(train_img_dir, test_img_dir):\n",
    "\n",
    "    train_dataset = tf.keras.utils.image_dataset_from_directory(\n",
    "        train_img_dir,\n",
    "        labels='inferred',\n",
    "        label_mode='int',\n",
    "        color_mode='rgb',\n",
    "        batch_size=32,\n",
    "        image_size=(224, 224),\n",
    "        shuffle=True,\n",
    "        seed=random.randint(0,1000),\n",
    "        validation_split=0.2,\n",
    "        subset='both'\n",
    "    )\n",
    "\n",
    "    test_dataset = tf.keras.utils.image_dataset_from_directory(\n",
    "        test_img_dir,\n",
    "        labels='inferred',\n",
    "        label_mode='int',\n",
    "        color_mode='rgb',\n",
    "        batch_size=32,\n",
    "        image_size=(224, 224),\n",
    "        shuffle=True,\n",
    "        seed=random.randint(0,1000),\n",
    "        validation_split=None\n",
    "    )\n",
    "\n",
    "    return train_dataset, test_dataset"
   ]
  },
  {
   "cell_type": "code",
   "execution_count": 14,
   "id": "a2a2aa20",
   "metadata": {},
   "outputs": [
    {
     "name": "stdout",
     "output_type": "stream",
     "text": [
      "Found 287651 files belonging to 8 classes.\n",
      "Using 230121 files for training.\n",
      "Using 57530 files for validation.\n",
      "Found 3999 files belonging to 8 classes.\n"
     ]
    }
   ],
   "source": [
    "(train_dataset, val_dataset), test_dataset = load_data(train_img_dir, test_img_dir)"
   ]
  },
  {
   "cell_type": "code",
   "execution_count": 15,
   "id": "9b9a1f70",
   "metadata": {
    "scrolled": false
   },
   "outputs": [
    {
     "name": "stdout",
     "output_type": "stream",
     "text": [
      "Saving model as: 20230705_fer_finetuning_vgg16.keras\n",
      "Epoch 1/60\n",
      "7192/7192 [==============================] - 638s 88ms/step - loss: 1.5370 - accuracy: 0.5229 - val_loss: 1.2948 - val_accuracy: 0.6038\n",
      "Epoch 2/60\n",
      "7192/7192 [==============================] - 633s 88ms/step - loss: 1.2952 - accuracy: 0.5860 - val_loss: 1.1921 - val_accuracy: 0.6165\n",
      "Epoch 3/60\n",
      "7192/7192 [==============================] - 633s 88ms/step - loss: 1.2212 - accuracy: 0.6081 - val_loss: 1.1572 - val_accuracy: 0.6213\n",
      "Epoch 4/60\n",
      "7192/7192 [==============================] - 633s 88ms/step - loss: 1.1847 - accuracy: 0.6178 - val_loss: 1.1405 - val_accuracy: 0.6259\n",
      "Epoch 5/60\n",
      "7192/7192 [==============================] - 633s 88ms/step - loss: 1.1609 - accuracy: 0.6243 - val_loss: 1.1249 - val_accuracy: 0.6291\n",
      "Epoch 6/60\n",
      "7192/7192 [==============================] - 633s 88ms/step - loss: 1.1433 - accuracy: 0.6278 - val_loss: 1.1164 - val_accuracy: 0.6302\n",
      "Epoch 7/60\n",
      "7192/7192 [==============================] - 633s 88ms/step - loss: 1.1297 - accuracy: 0.6308 - val_loss: 1.1086 - val_accuracy: 0.6311\n",
      "Epoch 8/60\n",
      "7192/7192 [==============================] - 633s 88ms/step - loss: 1.1188 - accuracy: 0.6328 - val_loss: 1.1024 - val_accuracy: 0.6329\n",
      "Epoch 9/60\n",
      "7192/7192 [==============================] - 633s 88ms/step - loss: 1.1095 - accuracy: 0.6353 - val_loss: 1.0954 - val_accuracy: 0.6329\n",
      "Epoch 10/60\n",
      "7192/7192 [==============================] - 633s 88ms/step - loss: 1.1002 - accuracy: 0.6363 - val_loss: 1.0928 - val_accuracy: 0.6341\n",
      "Epoch 11/60\n",
      "7192/7192 [==============================] - 633s 88ms/step - loss: 1.0928 - accuracy: 0.6385 - val_loss: 1.0926 - val_accuracy: 0.6322\n",
      "Epoch 12/60\n",
      "7192/7192 [==============================] - 633s 88ms/step - loss: 1.0855 - accuracy: 0.6395 - val_loss: 1.0920 - val_accuracy: 0.6316\n",
      "Epoch 13/60\n",
      "7192/7192 [==============================] - 633s 88ms/step - loss: 1.0780 - accuracy: 0.6414 - val_loss: 1.0819 - val_accuracy: 0.6349\n",
      "Epoch 14/60\n",
      "7192/7192 [==============================] - 633s 88ms/step - loss: 1.0701 - accuracy: 0.6433 - val_loss: 1.0790 - val_accuracy: 0.6367\n",
      "Epoch 15/60\n",
      "7192/7192 [==============================] - 633s 88ms/step - loss: 1.0609 - accuracy: 0.6457 - val_loss: 1.0672 - val_accuracy: 0.6409\n",
      "Epoch 16/60\n",
      "7192/7192 [==============================] - 633s 88ms/step - loss: 1.0544 - accuracy: 0.6473 - val_loss: 1.0581 - val_accuracy: 0.6424\n",
      "Epoch 17/60\n",
      "7192/7192 [==============================] - 632s 88ms/step - loss: 1.0467 - accuracy: 0.6488 - val_loss: 1.0636 - val_accuracy: 0.6388\n",
      "Epoch 18/60\n",
      "7192/7192 [==============================] - 632s 88ms/step - loss: 1.0401 - accuracy: 0.6509 - val_loss: 1.0670 - val_accuracy: 0.6420\n",
      "Epoch 19/60\n",
      "7192/7192 [==============================] - 633s 88ms/step - loss: 1.0344 - accuracy: 0.6521 - val_loss: 1.0504 - val_accuracy: 0.6455\n",
      "Epoch 20/60\n",
      "7192/7192 [==============================] - 632s 88ms/step - loss: 1.0267 - accuracy: 0.6534 - val_loss: 1.0674 - val_accuracy: 0.6394\n",
      "Epoch 21/60\n",
      "7192/7192 [==============================] - 632s 88ms/step - loss: 1.0217 - accuracy: 0.6557 - val_loss: 1.0428 - val_accuracy: 0.6472\n",
      "Epoch 22/60\n",
      "7192/7192 [==============================] - 632s 88ms/step - loss: 1.0164 - accuracy: 0.6566 - val_loss: 1.0548 - val_accuracy: 0.6428\n",
      "Epoch 23/60\n",
      "7192/7192 [==============================] - 633s 88ms/step - loss: 1.0103 - accuracy: 0.6586 - val_loss: 1.0404 - val_accuracy: 0.6487\n",
      "Epoch 24/60\n",
      "7192/7192 [==============================] - 632s 88ms/step - loss: 1.0050 - accuracy: 0.6586 - val_loss: 1.0436 - val_accuracy: 0.6477\n",
      "Epoch 25/60\n",
      "7192/7192 [==============================] - 632s 88ms/step - loss: 1.0007 - accuracy: 0.6607 - val_loss: 1.0458 - val_accuracy: 0.6450\n",
      "Epoch 26/60\n",
      "7192/7192 [==============================] - 633s 88ms/step - loss: 0.9953 - accuracy: 0.6619 - val_loss: 1.0347 - val_accuracy: 0.6500\n",
      "Epoch 27/60\n",
      "7192/7192 [==============================] - 633s 88ms/step - loss: 0.9900 - accuracy: 0.6640 - val_loss: 1.0344 - val_accuracy: 0.6498\n",
      "Epoch 28/60\n",
      "7192/7192 [==============================] - 632s 88ms/step - loss: 0.9862 - accuracy: 0.6648 - val_loss: 1.0346 - val_accuracy: 0.6510\n",
      "Epoch 29/60\n",
      "7192/7192 [==============================] - 632s 88ms/step - loss: 0.9801 - accuracy: 0.6658 - val_loss: 1.0385 - val_accuracy: 0.6490\n",
      "Epoch 30/60\n",
      "7192/7192 [==============================] - 632s 88ms/step - loss: 0.9763 - accuracy: 0.6672 - val_loss: 1.0310 - val_accuracy: 0.6516\n",
      "Epoch 31/60\n",
      "7192/7192 [==============================] - 632s 88ms/step - loss: 0.9716 - accuracy: 0.6685 - val_loss: 1.0315 - val_accuracy: 0.6507\n",
      "Epoch 32/60\n",
      "7192/7192 [==============================] - 632s 88ms/step - loss: 0.9669 - accuracy: 0.6700 - val_loss: 1.0345 - val_accuracy: 0.6497\n",
      "Epoch 33/60\n",
      "7192/7192 [==============================] - 632s 88ms/step - loss: 0.9608 - accuracy: 0.6715 - val_loss: 1.0362 - val_accuracy: 0.6511\n",
      "Epoch 34/60\n",
      "7192/7192 [==============================] - 632s 88ms/step - loss: 0.9571 - accuracy: 0.6728 - val_loss: 1.0413 - val_accuracy: 0.6472\n",
      "Epoch 35/60\n",
      "7192/7192 [==============================] - 632s 88ms/step - loss: 0.9523 - accuracy: 0.6740 - val_loss: 1.0374 - val_accuracy: 0.6520\n",
      "Epoch 36/60\n",
      "7192/7192 [==============================] - 632s 88ms/step - loss: 0.9473 - accuracy: 0.6760 - val_loss: 1.0360 - val_accuracy: 0.6518\n",
      "Epoch 37/60\n",
      "7192/7192 [==============================] - 632s 88ms/step - loss: 0.9431 - accuracy: 0.6773 - val_loss: 1.0360 - val_accuracy: 0.6518\n",
      "Epoch 38/60\n",
      "7192/7192 [==============================] - 632s 88ms/step - loss: 0.9391 - accuracy: 0.6785 - val_loss: 1.0340 - val_accuracy: 0.6498\n",
      "Epoch 39/60\n",
      "7192/7192 [==============================] - 632s 88ms/step - loss: 0.9336 - accuracy: 0.6796 - val_loss: 1.0493 - val_accuracy: 0.6453\n",
      "Epoch 40/60\n",
      "7192/7192 [==============================] - 632s 88ms/step - loss: 0.9294 - accuracy: 0.6818 - val_loss: 1.0340 - val_accuracy: 0.6523\n",
      "Epoch 41/60\n",
      "7192/7192 [==============================] - 632s 88ms/step - loss: 0.9250 - accuracy: 0.6834 - val_loss: 1.0385 - val_accuracy: 0.6518\n",
      "Epoch 42/60\n",
      "7192/7192 [==============================] - 632s 88ms/step - loss: 0.9204 - accuracy: 0.6850 - val_loss: 1.0360 - val_accuracy: 0.6522\n",
      "Epoch 43/60\n",
      "7192/7192 [==============================] - 632s 88ms/step - loss: 0.9153 - accuracy: 0.6862 - val_loss: 1.0363 - val_accuracy: 0.6520\n",
      "Epoch 44/60\n",
      "7192/7192 [==============================] - 632s 88ms/step - loss: 0.9108 - accuracy: 0.6870 - val_loss: 1.0467 - val_accuracy: 0.6496\n",
      "Epoch 45/60\n",
      "7192/7192 [==============================] - 632s 88ms/step - loss: 0.9062 - accuracy: 0.6891 - val_loss: 1.0482 - val_accuracy: 0.6511\n"
     ]
    }
   ],
   "source": [
    "from datetime import date\n",
    "today = date.today()\n",
    "date = today.strftime(\"%Y%m%d\")\n",
    "\n",
    "callbacks = [\n",
    "    keras.callbacks.ModelCheckpoint(\n",
    "        filepath=f\"{date}_fer_finetuning_vgg16_2.keras\",\n",
    "        save_best_only=True,\n",
    "        monitor=\"val_loss\"),\n",
    "    keras.callbacks.EarlyStopping(\n",
    "        monitor=\"val_loss\", \n",
    "        patience=15)\n",
    "]\n",
    "\n",
    "print(f'Saving model as: {date}_fer_finetuning_vgg16.keras')\n",
    "history = model.fit(x=train_dataset, epochs=60, validation_data=val_dataset, callbacks=callbacks)"
   ]
  },
  {
   "cell_type": "code",
   "execution_count": 16,
   "id": "ad0ff192",
   "metadata": {},
   "outputs": [
    {
     "data": {
      "image/png": "[encoded data removed]",
      "text/plain": [
       "<Figure size 432x288 with 1 Axes>"
      ]
     },
     "metadata": {
      "needs_background": "light"
     },
     "output_type": "display_data"
    },
    {
     "data": {
      "image/png": "[encoded data removed]",
      "text/plain": [
       "<Figure size 432x288 with 1 Axes>"
      ]
     },
     "metadata": {
      "needs_background": "light"
     },
     "output_type": "display_data"
    }
   ],
   "source": [
    "# complete dataset\n",
    "import matplotlib.pyplot as plt\n",
    "accuracy = history.history[\"accuracy\"]\n",
    "val_accuracy = history.history[\"val_accuracy\"]\n",
    "loss = history.history[\"loss\"]\n",
    "val_loss = history.history[\"val_loss\"]\n",
    "epochs = range(1, len(accuracy) + 1)\n",
    "\n",
    "plt.plot(epochs, accuracy, \"bo\", label=\"Training accuracy\")\n",
    "plt.plot(epochs, val_accuracy, \"b\", label=\"Validation accuracy\")\n",
    "plt.title(\"Training and validation accuracy\")\n",
    "plt.legend()\n",
    "plt.figure()\n",
    "\n",
    "plt.plot(epochs, loss, \"bo\", label=\"Training loss\")\n",
    "plt.plot(epochs, val_loss, \"b\", label=\"Validation loss\")\n",
    "plt.title(\"Training and validation loss\")\n",
    "plt.legend()\n",
    "plt.show()"
   ]
  },
  {
   "cell_type": "code",
   "execution_count": 9,
   "id": "47cc7066",
   "metadata": {},
   "outputs": [
    {
     "name": "stdout",
     "output_type": "stream",
     "text": [
      "500/500 [==============================] - 14s 27ms/step - loss: 1.6438 - accuracy: 0.3783\n",
      "Test accuracy: 0.378\n"
     ]
    }
   ],
   "source": [
    "# balanced & small dataset\n",
    "model = keras.models.load_model(f\"{date}_fer_finetuning_vgg16.keras\")\n",
    "test_loss, test_acc = model.evaluate(test_dataset)\n",
    "print(f\"Test accuracy: {test_acc:.3f}\")"
   ]
  },
  {
   "cell_type": "code",
   "execution_count": 18,
   "id": "384f2027",
   "metadata": {},
   "outputs": [
    {
     "name": "stdout",
     "output_type": "stream",
     "text": [
      "125/125 [==============================] - 10s 76ms/step - loss: 2.4670 - accuracy: 0.2458\n",
      "Test accuracy: 0.246\n"
     ]
    }
   ],
   "source": [
    "# complete dataset\n",
    "model = keras.models.load_model(f\"{date}_fer_finetuning_vgg16_2.keras\")\n",
    "test_loss, test_acc = model.evaluate(test_dataset)\n",
    "print(f\"Test accuracy: {test_acc:.3f}\")"
   ]
  },
  {
   "cell_type": "code",
   "execution_count": null,
   "id": "38c05e97",
   "metadata": {},
   "outputs": [],
   "source": []
  }
 ],
 "metadata": {
  "kernelspec": {
   "display_name": "Python 3",
   "language": "python",
   "name": "python3"
  },
  "language_info": {
   "codemirror_mode": {
    "name": "ipython",
    "version": 3
   },
   "file_extension": ".py",
   "mimetype": "text/x-python",
   "name": "python",
   "nbconvert_exporter": "python",
   "pygments_lexer": "ipython3",
   "version": "3.9.16"
  }
 },
 "nbformat": 4,
 "nbformat_minor": 5
}
